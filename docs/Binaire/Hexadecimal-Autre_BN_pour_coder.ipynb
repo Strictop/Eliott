{
 "cells": [
  {
   "cell_type": "markdown",
   "metadata": {},
   "source": [
    "# Le Bloc Note pour apprendre à coder en hexadécimal :\n",
    "\n",
    "Nous savons maintenant que de nos jours les ordinateurs comme pratiquement tous les systèmes numériques communiquent en faisant circuler des informations sous la forme de mots binaires à 8 bits = 1 octet que l'on nomme bytes même si cela n'a pas toujours été le cas : https://fr.wikipedia.org/wiki/Byte.\n",
    "\n",
    "Pour un humain (normalement constitué), il est fastidieux d'écrire ou de déchiffré à la volée de telles trames d'informations directement au format binaire :\n",
    "\n",
    "`010011100101001101001001001011000010000001100011001001110110010101110011011101000010000001100011011011110110111101101100001000000100001`\n",
    "\n",
    "Le format hexadécimal présente de façon plus condensée un message binaire constitué d'une suite d'octects."
   ]
  },
  {
   "cell_type": "markdown",
   "metadata": {
    "slideshow": {
     "slide_type": "slide"
    }
   },
   "source": [
    "# Système hexadécimal :"
   ]
  },
  {
   "cell_type": "markdown",
   "metadata": {},
   "source": [
    "C’est un système de base $16$ qui utilise donc seize symboles différents :\n",
    "\n",
    "$$ 0, 1, 2, 3, 4, 5, 6, 7, 8, 9, A, B, C, D, E, F$$\n",
    "\n",
    "Pour distinguer un nombre hexadécimal on indique le code ``0x`` (ou le symbole ``#``) avant le nombre ou l’indice $_{16}$ (ou $_h$) après le nombre.\n",
    "\n",
    "Les lettres A à F correspondent respectivement au nombre décimaux ? $10, 11, 12, 13, 14, 15$\n",
    "\n",
    "$AC53_{16}$ = $10 \\times 16^3 + 12 \\times 16^2 + 5 \\times 16^1 + 3 \\times 16^0$"
   ]
  },
  {
   "cell_type": "markdown",
   "metadata": {},
   "source": [
    "## Correspondance entre nombres de différentes bases :\n",
    "<img src=\"https://ericecmorlaix.github.io/img/Stepper-Correspondance.svg\" alt=\"Tableau de correspondance entre bases\">"
   ]
  },
  {
   "cell_type": "markdown",
   "metadata": {},
   "source": [
    "## Changement de base :\n",
    "\n",
    "### Conversion d’un nombre hexadécimal en binaire.\n",
    "\n",
    "Chaque symbole du nombre écrit dans le système hexadécimal est remplacé par son équivalent écrit dans le système binaire.\n",
    "\n",
    "Exemple : Convertir $ECA_{16}$ = ${1110_2\\over E_{16}}{1100_2\\over C_{16}}{1010_2\\over A_{16}}$ = $1110 1100 1010_2$ \n",
    "\n",
    "\n",
    "### Conversion d’un nombre binaire en hexadécimal.\n",
    "\n",
    "C’est l’inverse de la précédente. Il faut donc regrouper les 1 et les 0 du nombre par 4 en commençant par la droite, quitte à rajouter des 0 à gauche, puis chaque groupe est remplacé par le symbole hexadécimal correspondant.\n",
    "\n",
    "Exemple : Convertir $1100001101111_2$ = ${1_{16}\\over 0001_2}{8_{16}\\over 1000_2}{6_{16}\\over 0110_2}{F_{16}\\over 1111_2}$ = $186F_{16}$\n"
   ]
  },
  {
   "cell_type": "markdown",
   "metadata": {},
   "source": [
    "<h3 class='fa fa-graduation-cap' style=\"color: MediumSeaGreen\"> A faire vous même n°1 :</h3>\n",
    "\n",
    "Recoder en hexadécimal la trame d'information binaire donnée au début de ce notebook.\n",
    "\n",
    "\n",
    "<h3 class='fa fa-graduation-cap' style=\"color: darkorange\"> A faire vous même n°2 :</h3>\n",
    "\n",
    "L'objectif de cet exercice est de convertir des nombres entiers donnés en décimal, en binaire ou en héxadécimal, pour dessiner une image matricielle dans un quadrillage $8 \\times 8$.\n",
    "\n",
    "Chaque case de l'image correspond à un bit. Une ligne de l'image fait 8 cases, soit 8 bits ou 1 octet.\n",
    "\n",
    "Lorsque le bit est à 1 alors la case est noire, lorsque le bit est à 0 alors la case est blanche.\n",
    "\n",
    "#### Exemple :\n",
    "\n",
    "<img src=\"https://ericecmorlaix.github.io/img/NSI-Exemple-2D_Code.png\" alt=\"ExerciceCodage.png\">\n",
    "\n",
    "#### A faire vous même : **compléter** le quadrillage pour découvrir l'image...\n",
    "\n",
    "<img  width=\"30%\" src=\"\" alt=\"ExerciceCodage.png\">\n",
    "\n",
    "#### Vérification :\n",
    "\n",
    "Un moyen de vérifer si on n'a pas fait d'erreur est de fournir un nombre qui pourrait être un code de validation.\n",
    "\n",
    "Cette méthode n'est pas fiable à 100% mais elle permet très souvent de savoir si une erreur a été commise.\n",
    "\n",
    "Pour chaque colonne, on compte le nombre de 1 ; si ce nombre est pair, on marque 0 ; s'il est impair, on marque 1. On obtient ainsi un nombre 8 bits (1 pour chaque colonne).\n",
    "\n",
    "Le code de validation de l'image ci-dessus est égal à 202. Utilisez-le pour valider votre codage.\n",
    "\n",
    "<img src=\"https://ericecmorlaix.github.io/img/NSI-Validation-2D_Code.png\" alt=\"ExerciceCodage.png\">"
   ]
  },
  {
   "cell_type": "markdown",
   "metadata": {},
   "source": [
    "## Fonctions de conversion de Python :\n",
    "\n",
    "La fonction `bin()` permet de convertir un nombre en binaire :"
   ]
  },
  {
   "cell_type": "code",
   "execution_count": 1,
   "metadata": {},
   "outputs": [
    {
     "data": {
      "text/plain": [
       "'0b1011011'"
      ]
     },
     "execution_count": 1,
     "metadata": {},
     "output_type": "execute_result"
    }
   ],
   "source": [
    "bin(91)"
   ]
  },
  {
   "cell_type": "code",
   "execution_count": 2,
   "metadata": {},
   "outputs": [
    {
     "data": {
      "text/plain": [
       "'0b1011011'"
      ]
     },
     "execution_count": 2,
     "metadata": {},
     "output_type": "execute_result"
    }
   ],
   "source": [
    "bin(0x5b)"
   ]
  },
  {
   "cell_type": "markdown",
   "metadata": {},
   "source": [
    "La fonction `hex()` permet de convertir un nombre en hexadécimal :"
   ]
  },
  {
   "cell_type": "code",
   "execution_count": 3,
   "metadata": {},
   "outputs": [
    {
     "data": {
      "text/plain": [
       "'0x5b'"
      ]
     },
     "execution_count": 3,
     "metadata": {},
     "output_type": "execute_result"
    }
   ],
   "source": [
    "hex(91)"
   ]
  },
  {
   "cell_type": "code",
   "execution_count": 4,
   "metadata": {},
   "outputs": [
    {
     "data": {
      "text/plain": [
       "'0x5b'"
      ]
     },
     "execution_count": 4,
     "metadata": {},
     "output_type": "execute_result"
    }
   ],
   "source": [
    "hex(0b1011011)"
   ]
  },
  {
   "cell_type": "markdown",
   "metadata": {},
   "source": [
    "La fonction `int()` permet de convertir un nombre en décimal :"
   ]
  },
  {
   "cell_type": "code",
   "execution_count": 5,
   "metadata": {},
   "outputs": [
    {
     "data": {
      "text/plain": [
       "983"
      ]
     },
     "execution_count": 5,
     "metadata": {},
     "output_type": "execute_result"
    }
   ],
   "source": [
    "int(0b1111010111)"
   ]
  },
  {
   "cell_type": "code",
   "execution_count": 6,
   "metadata": {},
   "outputs": [
    {
     "data": {
      "text/plain": [
       "91"
      ]
     },
     "execution_count": 6,
     "metadata": {},
     "output_type": "execute_result"
    }
   ],
   "source": [
    "int(0x5b)"
   ]
  },
  {
   "cell_type": "markdown",
   "metadata": {},
   "source": [
    "## Codage Hexadécimal des couleurs :\n",
    "Les couleurs RVB peuvent être exprimées dans différents formats comme : (34,255,67) ou #90FF56.\n",
    "\n",
    "(34,255,67) indique les composantes Rouge=34, Vert=255, Bleu=67 avec des nombres en base 10.\n",
    "\n",
    "Tandis que #90FF56 indique Rouge=90, Vert=FF, Bleu=56 en base 16.\n",
    "\n",
    "Le préfixe # indique seulement qu'il s'agit d'une écriture hexadécimale.\n",
    "\n",
    "<h3 class='fa fa-graduation-cap' style=\"color: MediumSeaGreen\"> A faire vous même n°3 :</h3>\n",
    "\n",
    "- Les deux codes proposés ci-dessus, (34,255,67) et #90FF56, représentent-ils la même couleur ?\n",
    "\n",
    ".....................................................\n",
    "\n",
    "Vérifiez votre réponse avec le module `ipythonblocks` et son sélectionneur de couleur intégré :\n",
    "\n",
    "> Sur iPad, vérifier si le module `ipythonblocks` est déjà installé :\n",
    "```Python\n",
    "%pip list\n",
    "```\n",
    "> Sinon il faut l'installer en faisant :\n",
    "```Python\n",
    "%pip install ipythonblocks\n",
    "```"
   ]
  },
  {
   "cell_type": "code",
   "execution_count": 1,
   "metadata": {},
   "outputs": [
    {
     "name": "stdout",
     "output_type": "stream",
     "text": [
      "Package              Version\n",
      "-------------------- -----------\n",
      "argon2-cffi          21.3.0\n",
      "argon2-cffi-bindings 21.2.0\n",
      "astroid              2.12.10\n",
      "asttokens            2.0.8\n",
      "attrs                22.1.0\n",
      "autopep8             1.7.0\n",
      "backcall             0.2.0\n",
      "bandit               1.7.4\n",
      "beautifulsoup4       4.11.1\n",
      "bleach               5.0.1\n",
      "certifi              2022.9.24\n",
      "cffi                 1.15.1\n",
      "charset-normalizer   2.1.1\n",
      "commonmark           0.9.1\n",
      "cryptography         38.0.1\n",
      "debugpy              1.6.3\n",
      "decorator            5.1.1\n",
      "defusedxml           0.7.1\n",
      "dill                 0.3.5.1\n",
      "distlib              0.3.6\n",
      "docutils             0.19\n",
      "entrypoints          0.4\n",
      "executing            1.1.0\n",
      "fastjsonschema       2.16.2\n",
      "filelock             3.8.0\n",
      "flake8               5.0.4\n",
      "gitdb                4.0.9\n",
      "GitPython            3.1.27\n",
      "idna                 3.4\n",
      "importlib-metadata   5.0.0\n",
      "importlib-resources  5.9.0\n",
      "ipykernel            6.16.0\n",
      "ipython              8.5.0\n",
      "ipython-genutils     0.2.0\n",
      "isort                5.10.1\n",
      "jaraco.classes       3.2.3\n",
      "jedi                 0.18.1\n",
      "jeepney              0.8.0\n",
      "Jinja2               3.1.2\n",
      "jsonschema           4.16.0\n",
      "jupyter_client       7.3.5\n",
      "jupyter-core         4.11.1\n",
      "jupyterlab-pygments  0.2.2\n",
      "keyring              23.9.3\n",
      "lazy-object-proxy    1.7.1\n",
      "MarkupSafe           2.1.1\n",
      "matplotlib-inline    0.1.6\n",
      "mccabe               0.7.0\n",
      "metakernel           0.29.2\n",
      "mistune              2.0.4\n",
      "more-itertools       8.14.0\n",
      "mypy                 0.982\n",
      "mypy-extensions      0.4.3\n",
      "nbclient             0.6.8\n",
      "nbconvert            7.1.0\n",
      "nbformat             5.6.1\n",
      "nest-asyncio         1.5.6\n",
      "notebook             6.4.12\n",
      "packaging            21.3\n",
      "pandocfilters        1.5.0\n",
      "parso                0.8.3\n",
      "pbr                  5.10.0\n",
      "pep8                 1.7.1\n",
      "pexpect              4.8.0\n",
      "pickleshare          0.7.5\n",
      "pip                  22.2.2\n",
      "pipenv               2022.9.24\n",
      "pkginfo              1.8.3\n",
      "pkgutil_resolve_name 1.3.10\n",
      "platformdirs         2.5.2\n",
      "prometheus-client    0.14.1\n",
      "prompt-toolkit       3.0.31\n",
      "psutil               5.9.2\n",
      "ptyprocess           0.7.0\n",
      "pure-eval            0.2.2\n",
      "pycodestyle          2.9.1\n",
      "pycparser            2.21\n",
      "pydocstyle           6.1.1\n",
      "pyflakes             2.5.0\n",
      "Pygments             2.13.0\n",
      "pylama               8.4.1\n",
      "pylint               2.15.3\n",
      "pyparsing            3.0.9\n",
      "pyrsistent           0.18.1\n",
      "python-dateutil      2.8.2\n",
      "pytoolconfig         1.2.2\n",
      "PyYAML               6.0\n",
      "pyzmq                24.0.1\n",
      "readme-renderer      37.2\n",
      "requests             2.28.1\n",
      "requests-toolbelt    0.9.1\n",
      "rfc3986              2.0.0\n",
      "rich                 12.6.0\n",
      "rope                 1.3.0\n",
      "SecretStorage        3.3.3\n",
      "Send2Trash           1.8.0\n",
      "setuptools           65.4.1\n",
      "six                  1.16.0\n",
      "smmap                5.0.0\n",
      "snowballstemmer      2.2.0\n",
      "soupsieve            2.3.2.post1\n",
      "stack-data           0.5.1\n",
      "stevedore            4.0.0\n",
      "terminado            0.16.0\n",
      "tinycss2             1.1.1\n",
      "toml                 0.10.2\n",
      "tomli                2.0.1\n",
      "tomlkit              0.11.5\n",
      "tornado              6.2\n",
      "traitlets            5.4.0\n",
      "twine                4.0.1\n",
      "typing_extensions    4.3.0\n",
      "urllib3              1.26.12\n",
      "virtualenv           20.16.5\n",
      "virtualenv-clone     0.5.7\n",
      "wcwidth              0.2.5\n",
      "webencodings         0.5.1\n",
      "wheel                0.37.1\n",
      "wrapt                1.14.1\n",
      "zipp                 3.8.1\n",
      "\n",
      "\u001b[1m[\u001b[0m\u001b[34;49mnotice\u001b[0m\u001b[1;39;49m]\u001b[0m\u001b[39;49m A new release of pip available: \u001b[0m\u001b[31;49m22.2.2\u001b[0m\u001b[39;49m -> \u001b[0m\u001b[32;49m22.3.1\u001b[0m\n",
      "\u001b[1m[\u001b[0m\u001b[34;49mnotice\u001b[0m\u001b[1;39;49m]\u001b[0m\u001b[39;49m To update, run: \u001b[0m\u001b[32;49mpip install --upgrade pip\u001b[0m\n",
      "Note: you may need to restart the kernel to use updated packages.\n"
     ]
    }
   ],
   "source": [
    "%pip list"
   ]
  },
  {
   "cell_type": "code",
   "execution_count": null,
   "metadata": {},
   "outputs": [],
   "source": []
  },
  {
   "cell_type": "code",
   "execution_count": 7,
   "metadata": {},
   "outputs": [
    {
     "ename": "ModuleNotFoundError",
     "evalue": "No module named 'ipythonblocks'",
     "output_type": "error",
     "traceback": [
      "\u001b[0;31m---------------------------------------------------------------------------\u001b[0m",
      "\u001b[0;31mModuleNotFoundError\u001b[0m                       Traceback (most recent call last)",
      "Cell \u001b[0;32mIn [7], line 1\u001b[0m\n\u001b[0;32m----> 1\u001b[0m \u001b[38;5;28;01mfrom\u001b[39;00m \u001b[38;5;21;01mipythonblocks\u001b[39;00m \u001b[38;5;28;01mimport\u001b[39;00m show_color, embed_colorpicker\n",
      "\u001b[0;31mModuleNotFoundError\u001b[0m: No module named 'ipythonblocks'"
     ]
    }
   ],
   "source": [
    "from ipythonblocks import show_color, embed_colorpicker"
   ]
  },
  {
   "cell_type": "code",
   "execution_count": null,
   "metadata": {},
   "outputs": [
    {
     "ename": "NameError",
     "evalue": "name 'show_color' is not defined",
     "output_type": "error",
     "traceback": [
      "\u001b[0;31m---------------------------------------------------------------------------\u001b[0m",
      "\u001b[0;31mNameError\u001b[0m                                 Traceback (most recent call last)",
      "Cell \u001b[0;32mIn [8], line 1\u001b[0m\n\u001b[0;32m----> 1\u001b[0m \u001b[43mshow_color\u001b[49m(\u001b[38;5;241m200\u001b[39m,\u001b[38;5;241m100\u001b[39m,\u001b[38;5;241m50\u001b[39m,\u001b[38;5;241m25\u001b[39m)\n",
      "\u001b[0;31mNameError\u001b[0m: name 'show_color' is not defined"
     ]
    }
   ],
   "source": [
    "show_color(200,100,50)"
   ]
  },
  {
   "cell_type": "code",
   "execution_count": null,
   "metadata": {},
   "outputs": [
    {
     "ename": "NameError",
     "evalue": "name 'embed_colorpicker' is not defined",
     "output_type": "error",
     "traceback": [
      "\u001b[0;31m---------------------------------------------------------------------------\u001b[0m",
      "\u001b[0;31mNameError\u001b[0m                                 Traceback (most recent call last)",
      "Cell \u001b[0;32mIn [9], line 1\u001b[0m\n\u001b[0;32m----> 1\u001b[0m \u001b[43membed_colorpicker\u001b[49m()\n",
      "\u001b[0;31mNameError\u001b[0m: name 'embed_colorpicker' is not defined"
     ]
    }
   ],
   "source": [
    "embed_colorpicker()"
   ]
  },
  {
   "cell_type": "markdown",
   "metadata": {},
   "source": [
    "> Pour plus d'information sur les couleurs utilisées en HTML :\n",
    "> - https://htmlcolorcodes.com/fr/selecteur-de-couleur/"
   ]
  },
  {
   "cell_type": "markdown",
   "metadata": {},
   "source": [
    "<h3 class='fa fa-code' style=\"color: tomato\"> A faire vous même n°4 :</h3>\n",
    "\n",
    "On observe que le module `ipythonbloks` ne prend pas les codes couleurs au format hexadécimal.\n",
    "Nous aurions donc besoin d'une fonction python qui prenne en entrée une chaine de caractères correspondante au code hexadécimal d'une couleur et qui renvoie son code convertit au format décimal dans une chaine de caractères en sortie...\n"
   ]
  },
  {
   "cell_type": "markdown",
   "metadata": {},
   "source": [
    "****\n",
    "## Références aux programmes :\n",
    "\n",
    "<style type=\"text/css\">\n",
    ".tg  {border-collapse:collapse;border-spacing:0;}\n",
    ".tg td{font-family:Arial, sans-serif;font-size:14px;padding:10px 5px;border-style:solid;border-width:1px;overflow:hidden;word-break:normal;border-color:black;}\n",
    ".tg th{font-family:Arial, sans-serif;font-size:14px;font-weight:normal;padding:10px 5px;border-style:solid;border-width:1px;overflow:hidden;word-break:normal;border-color:black;}\n",
    ".tg .tg-cv16{font-weight:bold;background-color:#dae8fc;border-color:inherit;text-align:center}\n",
    ".tg .tg-xldj{border-color:inherit;text-align:left}\n",
    "</style>\n",
    "<table class=\"tg\">\n",
    "  <tr>\n",
    "    <th class=\"tg-cv16\">Compétences développées</th>\n",
    "    <th class=\"tg-cv16\">Capacités attendues</th>\n",
    "    <th class=\"tg-cv16\">Commentaires</th>\n",
    "  </tr>\n",
    "  <tr>\n",
    "    <td class=\"tg-xldj\">Écriture d’un entier positif dans une base b ⩾ 2</td>\n",
    "    <td class=\"tg-xldj\">Passer de la représentation d’une base dans une autre.</td>\n",
    "    <td class=\"tg-xldj\">Les bases 2, 10 et 16 sont privilégiées.</td>\n",
    "  </tr>\n",
    "</table>"
   ]
  },
  {
   "cell_type": "markdown",
   "metadata": {
    "slideshow": {
     "slide_type": "-"
    }
   },
   "source": [
    "<a rel=\"license\" href=\"http://creativecommons.org/licenses/by-sa/4.0/\"><img alt=\"Licence Creative Commons\" style=\"border-width:0\" src=\"https://i.creativecommons.org/l/by-sa/4.0/88x31.png\" /></a><br />Ce document est mis à disposition selon les termes de la <a rel=\"license\" href=\"http://creativecommons.org/licenses/by-sa/4.0/\">Licence Creative Commons Attribution -  Partage dans les Mêmes Conditions 4.0 International</a>.\n",
    "\n",
    "Pour toute question, suggestion ou commentaire : <a href=\"mailto:eric.madec@ecmorlaix.fr\">eric.madec@ecmorlaix.fr</a>"
   ]
  }
 ],
 "metadata": {
  "gist": {
   "data": {
    "description": "1SI_2019-2020/ChaineInformation-Numeration.ipynb",
    "public": true
   },
   "id": ""
  },
  "hide_input": false,
  "kernelspec": {
   "display_name": "Python 3.8.13 64-bit ('shims')",
   "language": "python",
   "name": "python3"
  },
  "language_info": {
   "codemirror_mode": {
    "name": "ipython",
    "version": 3
   },
   "file_extension": ".py",
   "mimetype": "text/x-python",
   "name": "python",
   "nbconvert_exporter": "python",
   "pygments_lexer": "ipython3",
   "version": "3.8.13 (default, Oct  4 2022, 14:00:32) \n[GCC 9.4.0]"
  },
  "toc": {
   "base_numbering": 1,
   "nav_menu": {},
   "number_sections": true,
   "sideBar": true,
   "skip_h1_title": false,
   "title_cell": "Table of Contents",
   "title_sidebar": "Contents",
   "toc_cell": false,
   "toc_position": {},
   "toc_section_display": true,
   "toc_window_display": false
  },
  "varInspector": {
   "cols": {
    "lenName": 16,
    "lenType": 16,
    "lenVar": 40
   },
   "kernels_config": {
    "python": {
     "delete_cmd_postfix": "",
     "delete_cmd_prefix": "del ",
     "library": "var_list.py",
     "varRefreshCmd": "print(var_dic_list())"
    },
    "r": {
     "delete_cmd_postfix": ") ",
     "delete_cmd_prefix": "rm(",
     "library": "var_list.r",
     "varRefreshCmd": "cat(var_dic_list()) "
    }
   },
   "types_to_exclude": [
    "module",
    "function",
    "builtin_function_or_method",
    "instance",
    "_Feature"
   ],
   "window_display": false
  },
  "vscode": {
   "interpreter": {
    "hash": "9ac03a0a6051494cc606d484d27d20fce22fb7b4d169f583271e11d5ba46a56e"
   }
  }
 },
 "nbformat": 4,
 "nbformat_minor": 2
}
