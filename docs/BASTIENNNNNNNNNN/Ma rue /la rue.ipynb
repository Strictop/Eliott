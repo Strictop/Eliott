{
 "cells": [
  {
   "cell_type": "code",
   "execution_count": null,
   "metadata": {},
   "outputs": [],
   "source": [
    "%pip install ipycanvas"
   ]
  },
  {
   "cell_type": "code",
   "execution_count": null,
   "metadata": {},
   "outputs": [],
   "source": [
    "from math import pi"
   ]
  },
  {
   "cell_type": "code",
   "execution_count": 1,
   "metadata": {},
   "outputs": [],
   "source": [
    "from ipycanvas import Canvas"
   ]
  },
  {
   "cell_type": "code",
   "execution_count": null,
   "metadata": {},
   "outputs": [],
   "source": [
    "rue = Canvas(width = 800, height = 400)\n",
    "\n",
    "# Définition d'une fonction d'affichage\n",
    "def affichage(canvas): \n",
    "    '''\n",
    "    Efface et affiche le canvas dans le notebook\n",
    "    '''\n",
    "    canvas.clear()\n",
    "    display(canvas)\n",
    "    "
   ]
  },
  {
   "cell_type": "code",
   "execution_count": null,
   "metadata": {},
   "outputs": [],
   "source": [
    "# Test\n",
    "\n",
    "# Affichage du canvas rue pour un test\n",
    "affichage(rue)"
   ]
  },
  {
   "cell_type": "code",
   "execution_count": 2,
   "metadata": {},
   "outputs": [
    {
     "data": {
      "application/vnd.jupyter.widget-view+json": {
       "model_id": "831c2f20cf1e4955b417590ed1ca3b51",
       "version_major": 2,
       "version_minor": 0
      },
      "text/plain": [
       "Canvas(height=400, width=800)"
      ]
     },
     "metadata": {},
     "output_type": "display_data"
    }
   ],
   "source": [
    "%run ma_rue.py"
   ]
  },
  {
   "attachments": {},
   "cell_type": "markdown",
   "metadata": {},
   "source": [
    "### Les traits"
   ]
  },
  {
   "cell_type": "code",
   "execution_count": null,
   "metadata": {},
   "outputs": [],
   "source": [
    "# Dépendances\n",
    "from ma_rue import rue, affiche\n",
    "\n",
    "# Définitions\n",
    "\n",
    "# Fonction trait()\n",
    "def trait(x1,y1,x2,y2):\n",
    "    '''\n",
    "    dessine un trait entre les 2 points transmis en paramètres\n",
    "    Paramètres\n",
    "        x1, y1 : coordonnées du début du trait\n",
    "        x2, y2 : coordonnées de la fin du trait\n",
    "    \n",
    "    '''\n",
    "    rue.stroke_style = 'black'\n",
    "    rue.stroke_line(x1, y1, x2, y2)\n",
    "\n",
    "if __name__ == '__main__':\n",
    "    # Tests\n",
    "    affiche(rue)\n",
    "    trait(50, 25, rue.width/2, rue.height/2)"
   ]
  },
  {
   "attachments": {},
   "cell_type": "markdown",
   "metadata": {},
   "source": [
    "### Rectangle"
   ]
  },
  {
   "cell_type": "code",
   "execution_count": null,
   "metadata": {},
   "outputs": [],
   "source": [
    "# Dépendances\n",
    "from ma_rue import rue, affiche \n",
    "\n",
    "# Définitions\n",
    "\n",
    "# Fonction rectangle()\n",
    "def rectangle(x,y,w,h,c):\n",
    "    '''\n",
    "    Dessine un rectangle avec un contour noir et rempli de la couleur passée en paramètre\n",
    "    Paramètres\n",
    "        x, y : coordonnées du centre de la base de rectangle\n",
    "        w : largeur du rectangle\n",
    "        h : hauteur du rectangle\n",
    "        c : couleur du remplissage\n",
    "    '''\n",
    "    rue.fill_style = c\n",
    "    rue.fill_rect(x-w/2,y-h,w,h)\n",
    "    rue.line_width = 1\n",
    "    rue.stroke_rect(x-w/2,y-h,w,h)\n",
    "    \n",
    "if __name__ == '__main__':\n",
    "    affiche(rue)\n",
    "    rectangle(0, 50,200,100,'YellowGreen')\n",
    "    rectangle(800, 450,200,100,'plum')\n",
    "    rectangle(400, 250,200,100,'SkyBlue')\n",
    "    rectangle(400, 250,100,50,'salmon')"
   ]
  },
  {
   "cell_type": "code",
   "execution_count": 3,
   "metadata": {},
   "outputs": [
    {
     "data": {
      "application/vnd.jupyter.widget-view+json": {
       "model_id": "e19fb65b4b3e4c02acef0c2e613fe663",
       "version_major": 2,
       "version_minor": 0
      },
      "text/plain": [
       "Canvas(height=400, width=800)"
      ]
     },
     "metadata": {},
     "output_type": "display_data"
    }
   ],
   "source": [
    "%run rectangle.py"
   ]
  },
  {
   "attachments": {},
   "cell_type": "markdown",
   "metadata": {},
   "source": [
    "### Couleur aleatoire"
   ]
  },
  {
   "cell_type": "code",
   "execution_count": null,
   "metadata": {},
   "outputs": [],
   "source": [
    "# Dépendances\n",
    "from ma_rue import rue, affiche \n",
    "from random import randint\n",
    "\n",
    "def couleur_aleatoire():\n",
    "    '''\n",
    "    Renvoie une couleur HTML valide\n",
    "    au format 'rgb(rouge, vert, bleu)'\n",
    "    où rouge, vert et bleu sont des entiers\n",
    "    compris entre 0 et 255 choisis aléatoirement.\n",
    "    \n",
    "    '''\n",
    "\n",
    "    i = randint(1, 10)\n",
    "    if i==1: \n",
    "\n",
    "        rouge = 215\n",
    "        vert = 186\n",
    "        bleu = 206\n",
    "    else:\n",
    "\n",
    "        rouge = randint(0, 255)\n",
    "        vert = randint(0, 255)\n",
    "        bleu = randint(0, 255)\n",
    "\n",
    "    return f\"rgb({rouge},{vert},{bleu})\"\n",
    "\n",
    "\n",
    "if __name__ == '__main__':\n",
    "\n",
    "    # Tests\n",
    "    affiche(rue)\n",
    "    couleur = couleur_aleatoire()\n",
    "    rue.fill_style = couleur\n",
    "    rue.fill_rect(0, 0, rue.width, rue.height)\n",
    "    rue.font = '48px Lucida Console'\n",
    "    rue.text_align = 'center'\n",
    "    rue.stroke_text(couleur, rue.width/2, rue.height/2)"
   ]
  },
  {
   "attachments": {},
   "cell_type": "markdown",
   "metadata": {},
   "source": [
    "### Portes"
   ]
  },
  {
   "cell_type": "code",
   "execution_count": 6,
   "metadata": {},
   "outputs": [
    {
     "data": {
      "application/vnd.jupyter.widget-view+json": {
       "model_id": "e19fb65b4b3e4c02acef0c2e613fe663",
       "version_major": 2,
       "version_minor": 0
      },
      "text/plain": [
       "Canvas(height=400, width=800)"
      ]
     },
     "metadata": {},
     "output_type": "display_data"
    }
   ],
   "source": [
    "# Dépendances\n",
    "\n",
    "from ma_rue import rue, affiche\n",
    "from rectangle import rectangle\n",
    "from couleur_aleatoire import couleur_aleatoire\n",
    "from math import pi\n",
    "from random import randint\n",
    "\n",
    "# Définitions\n",
    "\n",
    "# Fonction portes()       \n",
    "\n",
    "def portes(x,y):\n",
    "    if randint(1,2) == 1:\n",
    "         # Porte rectangulaire\n",
    "        rectangle(x, y, 25, 35, couleur_aleatoire()  )\n",
    "    else:\n",
    "        # Porte arrondi\n",
    "        couleur = couleur_aleatoire()\n",
    "        rectangle(x, y, 25, 25, couleur  )\n",
    "        rue.fill_style:couleur\n",
    "        rue.fill_arc(x, y - 25, 12.5, pi, 0 )\n",
    "        rue.line_width = 1\n",
    "        rue.stroke_arc(x, y -25, 12.5, pi, 0)\n",
    "        rue.fill_rect(x - 11, y -25, 25, 10 )\n",
    "        \n",
    "# Tests\n",
    "affiche(rue)\n",
    "for i in range(21) :\n",
    "    portes(0 + i * 40,rue.height)"
   ]
  }
 ],
 "metadata": {
  "kernelspec": {
   "display_name": "Python 3",
   "language": "python",
   "name": "python3"
  },
  "language_info": {
   "codemirror_mode": {
    "name": "ipython",
    "version": 3
   },
   "file_extension": ".py",
   "mimetype": "text/x-python",
   "name": "python",
   "nbconvert_exporter": "python",
   "pygments_lexer": "ipython3",
   "version": "3.8.16"
  },
  "orig_nbformat": 4,
  "vscode": {
   "interpreter": {
    "hash": "9ac03a0a6051494cc606d484d27d20fce22fb7b4d169f583271e11d5ba46a56e"
   }
  }
 },
 "nbformat": 4,
 "nbformat_minor": 2
}
