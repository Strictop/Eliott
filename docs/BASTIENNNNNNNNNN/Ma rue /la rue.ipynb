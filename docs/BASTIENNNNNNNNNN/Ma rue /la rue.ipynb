{
 "cells": [
  {
   "cell_type": "code",
   "execution_count": 2,
   "metadata": {},
   "outputs": [
    {
     "name": "stdout",
     "output_type": "stream",
     "text": [
      "Collecting ipycanvas\n",
      "  Using cached ipycanvas-0.13.1-py2.py3-none-any.whl (255 kB)\n",
      "Collecting numpy\n",
      "  Using cached numpy-1.24.1-cp38-cp38-manylinux_2_17_x86_64.manylinux2014_x86_64.whl (17.3 MB)\n",
      "Collecting pillow>=6.0\n",
      "  Using cached Pillow-9.4.0-cp38-cp38-manylinux_2_28_x86_64.whl (3.4 MB)\n",
      "Collecting ipywidgets<9,>=7.6.0\n",
      "  Using cached ipywidgets-8.0.4-py3-none-any.whl (137 kB)\n",
      "Collecting jupyterlab-widgets~=3.0\n",
      "  Using cached jupyterlab_widgets-3.0.5-py3-none-any.whl (384 kB)\n",
      "Collecting widgetsnbextension~=4.0\n",
      "  Using cached widgetsnbextension-4.0.5-py3-none-any.whl (2.0 MB)\n",
      "Requirement already satisfied: ipykernel>=4.5.1 in /home/gitpod/.pyenv/versions/3.8.16/lib/python3.8/site-packages (from ipywidgets<9,>=7.6.0->ipycanvas) (6.19.4)\n",
      "Requirement already satisfied: traitlets>=4.3.1 in /home/gitpod/.pyenv/versions/3.8.16/lib/python3.8/site-packages (from ipywidgets<9,>=7.6.0->ipycanvas) (5.8.0)\n",
      "Requirement already satisfied: ipython>=6.1.0 in /home/gitpod/.pyenv/versions/3.8.16/lib/python3.8/site-packages (from ipywidgets<9,>=7.6.0->ipycanvas) (8.8.0)\n",
      "Requirement already satisfied: tornado>=6.1 in /home/gitpod/.pyenv/versions/3.8.16/lib/python3.8/site-packages (from ipykernel>=4.5.1->ipywidgets<9,>=7.6.0->ipycanvas) (6.2)\n",
      "Requirement already satisfied: matplotlib-inline>=0.1 in /home/gitpod/.pyenv/versions/3.8.16/lib/python3.8/site-packages (from ipykernel>=4.5.1->ipywidgets<9,>=7.6.0->ipycanvas) (0.1.6)\n",
      "Requirement already satisfied: comm>=0.1.1 in /home/gitpod/.pyenv/versions/3.8.16/lib/python3.8/site-packages (from ipykernel>=4.5.1->ipywidgets<9,>=7.6.0->ipycanvas) (0.1.2)\n",
      "Requirement already satisfied: nest-asyncio in /home/gitpod/.pyenv/versions/3.8.16/lib/python3.8/site-packages (from ipykernel>=4.5.1->ipywidgets<9,>=7.6.0->ipycanvas) (1.5.6)\n",
      "Requirement already satisfied: packaging in /home/gitpod/.pyenv/versions/3.8.16/lib/python3.8/site-packages (from ipykernel>=4.5.1->ipywidgets<9,>=7.6.0->ipycanvas) (22.0)\n",
      "Requirement already satisfied: debugpy>=1.0 in /home/gitpod/.pyenv/versions/3.8.16/lib/python3.8/site-packages (from ipykernel>=4.5.1->ipywidgets<9,>=7.6.0->ipycanvas) (1.6.5)\n",
      "Requirement already satisfied: pyzmq>=17 in /home/gitpod/.pyenv/versions/3.8.16/lib/python3.8/site-packages (from ipykernel>=4.5.1->ipywidgets<9,>=7.6.0->ipycanvas) (24.0.1)\n",
      "Requirement already satisfied: jupyter-client>=6.1.12 in /home/gitpod/.pyenv/versions/3.8.16/lib/python3.8/site-packages (from ipykernel>=4.5.1->ipywidgets<9,>=7.6.0->ipycanvas) (7.4.8)\n",
      "Requirement already satisfied: psutil in /home/gitpod/.pyenv/versions/3.8.16/lib/python3.8/site-packages (from ipykernel>=4.5.1->ipywidgets<9,>=7.6.0->ipycanvas) (5.9.4)\n",
      "Requirement already satisfied: prompt-toolkit<3.1.0,>=3.0.11 in /home/gitpod/.pyenv/versions/3.8.16/lib/python3.8/site-packages (from ipython>=6.1.0->ipywidgets<9,>=7.6.0->ipycanvas) (3.0.36)\n",
      "Requirement already satisfied: pygments>=2.4.0 in /home/gitpod/.pyenv/versions/3.8.16/lib/python3.8/site-packages (from ipython>=6.1.0->ipywidgets<9,>=7.6.0->ipycanvas) (2.14.0)\n",
      "Requirement already satisfied: pexpect>4.3 in /home/gitpod/.pyenv/versions/3.8.16/lib/python3.8/site-packages (from ipython>=6.1.0->ipywidgets<9,>=7.6.0->ipycanvas) (4.8.0)\n",
      "Requirement already satisfied: stack-data in /home/gitpod/.pyenv/versions/3.8.16/lib/python3.8/site-packages (from ipython>=6.1.0->ipywidgets<9,>=7.6.0->ipycanvas) (0.6.2)\n",
      "Requirement already satisfied: backcall in /home/gitpod/.pyenv/versions/3.8.16/lib/python3.8/site-packages (from ipython>=6.1.0->ipywidgets<9,>=7.6.0->ipycanvas) (0.2.0)\n",
      "Requirement already satisfied: jedi>=0.16 in /home/gitpod/.pyenv/versions/3.8.16/lib/python3.8/site-packages (from ipython>=6.1.0->ipywidgets<9,>=7.6.0->ipycanvas) (0.18.2)\n",
      "Requirement already satisfied: decorator in /home/gitpod/.pyenv/versions/3.8.16/lib/python3.8/site-packages (from ipython>=6.1.0->ipywidgets<9,>=7.6.0->ipycanvas) (5.1.1)\n",
      "Requirement already satisfied: pickleshare in /home/gitpod/.pyenv/versions/3.8.16/lib/python3.8/site-packages (from ipython>=6.1.0->ipywidgets<9,>=7.6.0->ipycanvas) (0.7.5)\n",
      "Requirement already satisfied: parso<0.9.0,>=0.8.0 in /home/gitpod/.pyenv/versions/3.8.16/lib/python3.8/site-packages (from jedi>=0.16->ipython>=6.1.0->ipywidgets<9,>=7.6.0->ipycanvas) (0.8.3)\n",
      "Requirement already satisfied: python-dateutil>=2.8.2 in /home/gitpod/.pyenv/versions/3.8.16/lib/python3.8/site-packages (from jupyter-client>=6.1.12->ipykernel>=4.5.1->ipywidgets<9,>=7.6.0->ipycanvas) (2.8.2)\n",
      "Requirement already satisfied: entrypoints in /home/gitpod/.pyenv/versions/3.8.16/lib/python3.8/site-packages (from jupyter-client>=6.1.12->ipykernel>=4.5.1->ipywidgets<9,>=7.6.0->ipycanvas) (0.4)\n",
      "Requirement already satisfied: jupyter-core>=4.9.2 in /home/gitpod/.pyenv/versions/3.8.16/lib/python3.8/site-packages (from jupyter-client>=6.1.12->ipykernel>=4.5.1->ipywidgets<9,>=7.6.0->ipycanvas) (5.1.2)\n",
      "Requirement already satisfied: ptyprocess>=0.5 in /home/gitpod/.pyenv/versions/3.8.16/lib/python3.8/site-packages (from pexpect>4.3->ipython>=6.1.0->ipywidgets<9,>=7.6.0->ipycanvas) (0.7.0)\n",
      "Requirement already satisfied: wcwidth in /home/gitpod/.pyenv/versions/3.8.16/lib/python3.8/site-packages (from prompt-toolkit<3.1.0,>=3.0.11->ipython>=6.1.0->ipywidgets<9,>=7.6.0->ipycanvas) (0.2.5)\n",
      "Requirement already satisfied: executing>=1.2.0 in /home/gitpod/.pyenv/versions/3.8.16/lib/python3.8/site-packages (from stack-data->ipython>=6.1.0->ipywidgets<9,>=7.6.0->ipycanvas) (1.2.0)\n",
      "Requirement already satisfied: pure-eval in /home/gitpod/.pyenv/versions/3.8.16/lib/python3.8/site-packages (from stack-data->ipython>=6.1.0->ipywidgets<9,>=7.6.0->ipycanvas) (0.2.2)\n",
      "Requirement already satisfied: asttokens>=2.1.0 in /home/gitpod/.pyenv/versions/3.8.16/lib/python3.8/site-packages (from stack-data->ipython>=6.1.0->ipywidgets<9,>=7.6.0->ipycanvas) (2.2.1)\n",
      "Requirement already satisfied: six in /home/gitpod/.pyenv/versions/3.8.16/lib/python3.8/site-packages (from asttokens>=2.1.0->stack-data->ipython>=6.1.0->ipywidgets<9,>=7.6.0->ipycanvas) (1.16.0)\n",
      "Requirement already satisfied: platformdirs>=2.5 in /home/gitpod/.pyenv/versions/3.8.16/lib/python3.8/site-packages (from jupyter-core>=4.9.2->jupyter-client>=6.1.12->ipykernel>=4.5.1->ipywidgets<9,>=7.6.0->ipycanvas) (2.6.2)\n",
      "Installing collected packages: widgetsnbextension, pillow, numpy, jupyterlab-widgets, ipywidgets, ipycanvas\n",
      "Successfully installed ipycanvas-0.13.1 ipywidgets-8.0.4 jupyterlab-widgets-3.0.5 numpy-1.24.1 pillow-9.4.0 widgetsnbextension-4.0.5\n",
      "Note: you may need to restart the kernel to use updated packages.\n"
     ]
    }
   ],
   "source": [
    "%pip install ipycanvas"
   ]
  },
  {
   "cell_type": "code",
   "execution_count": 3,
   "metadata": {},
   "outputs": [],
   "source": [
    "from ipycanvas import Canvas"
   ]
  },
  {
   "cell_type": "code",
   "execution_count": 4,
   "metadata": {},
   "outputs": [],
   "source": [
    "rue = Canvas(width = 800, height = 400)\n",
    "\n",
    "# Définition d'une fonction d'affichage\n",
    "def affichage(canvas): \n",
    "    '''\n",
    "    Efface et affiche le canvas dans le notebook\n",
    "    '''\n",
    "    canvas.clear()\n",
    "    display(canvas)\n",
    "    "
   ]
  },
  {
   "cell_type": "code",
   "execution_count": 5,
   "metadata": {},
   "outputs": [
    {
     "data": {
      "application/vnd.jupyter.widget-view+json": {
       "model_id": "ec51ef2ed799411382d90ab80c8401ca",
       "version_major": 2,
       "version_minor": 0
      },
      "text/plain": [
       "Canvas(height=400, width=800)"
      ]
     },
     "metadata": {},
     "output_type": "display_data"
    }
   ],
   "source": [
    "# Test\n",
    "\n",
    "# Affichage du canvas rue pour un test\n",
    "affichage(rue)"
   ]
  },
  {
   "cell_type": "code",
   "execution_count": 6,
   "metadata": {},
   "outputs": [
    {
     "data": {
      "application/vnd.jupyter.widget-view+json": {
       "model_id": "8b7559ea64e54aa1bdf1bce75f0f92f3",
       "version_major": 2,
       "version_minor": 0
      },
      "text/plain": [
       "Canvas(height=400, width=800)"
      ]
     },
     "metadata": {},
     "output_type": "display_data"
    }
   ],
   "source": [
    "%run ma_rue.py"
   ]
  },
  {
   "attachments": {},
   "cell_type": "markdown",
   "metadata": {},
   "source": [
    "### Les traits"
   ]
  },
  {
   "cell_type": "code",
   "execution_count": 8,
   "metadata": {},
   "outputs": [
    {
     "data": {
      "application/vnd.jupyter.widget-view+json": {
       "model_id": "5962f92c9ecc46f0a24cae5fb6f49e32",
       "version_major": 2,
       "version_minor": 0
      },
      "text/plain": [
       "Canvas(height=400, width=800)"
      ]
     },
     "metadata": {},
     "output_type": "display_data"
    }
   ],
   "source": [
    "# Dépendances\n",
    "from ma_rue import rue, affiche\n",
    "\n",
    "# Définitions\n",
    "\n",
    "# Fonction trait()\n",
    "def trait(x1,y1,x2,y2):\n",
    "    '''\n",
    "    dessine un trait entre les 2 points transmis en paramètres\n",
    "    Paramètres\n",
    "        x1, y1 : coordonnées du début du trait\n",
    "        x2, y2 : coordonnées de la fin du trait\n",
    "    \n",
    "    '''\n",
    "    rue.stroke_style = 'black'\n",
    "    rue.stroke_line(x1, y1, x2, y2)\n",
    "\n",
    "if __name__ == '__main__':\n",
    "    # Tests\n",
    "    affiche(rue)\n",
    "    trait(50, 25, rue.width/2, rue.height/2)"
   ]
  },
  {
   "attachments": {},
   "cell_type": "markdown",
   "metadata": {},
   "source": [
    "### Rectangle"
   ]
  },
  {
   "cell_type": "code",
   "execution_count": 1,
   "metadata": {},
   "outputs": [
    {
     "data": {
      "application/vnd.jupyter.widget-view+json": {
       "model_id": "d2a58f7c52a047688afa4c69a7e1873f",
       "version_major": 2,
       "version_minor": 0
      },
      "text/plain": [
       "Canvas(height=400, width=800)"
      ]
     },
     "metadata": {},
     "output_type": "display_data"
    }
   ],
   "source": [
    "# Dépendances\n",
    "from ma_rue import rue, affiche \n",
    "# Définitions\n",
    "\n",
    "# Fonction rectangle()\n",
    "def rectangle(x,y,w,h,c):\n",
    "    '''\n",
    "    Dessine un rectangle avec un contour noir et rempli de la couleur passée en paramètre\n",
    "    Paramètres\n",
    "        x, y : coordonnées du centre de la base de rectangle\n",
    "        w : largeur du rectangle\n",
    "        h : hauteur du rectangle\n",
    "        c : couleur du remplissage\n",
    "    '''\n",
    "    \n",
    "    \n",
    "    \n",
    "    \n",
    "    \n",
    "# Tests\n",
    "affiche(rue)\n",
    "rectangle(0, 50,200,100,'YellowGreen')\n",
    "rectangle(800, 450,200,100,'plum')\n",
    "rectangle(400, 250,200,100,'SkyBlue')\n",
    "rectangle(400, 250,100,50,'salmon')\n"
   ]
  }
 ],
 "metadata": {
  "kernelspec": {
   "display_name": "Python 3",
   "language": "python",
   "name": "python3"
  },
  "language_info": {
   "codemirror_mode": {
    "name": "ipython",
    "version": 3
   },
   "file_extension": ".py",
   "mimetype": "text/x-python",
   "name": "python",
   "nbconvert_exporter": "python",
   "pygments_lexer": "ipython3",
   "version": "3.8.16"
  },
  "orig_nbformat": 4,
  "vscode": {
   "interpreter": {
    "hash": "9ac03a0a6051494cc606d484d27d20fce22fb7b4d169f583271e11d5ba46a56e"
   }
  }
 },
 "nbformat": 4,
 "nbformat_minor": 2
}
