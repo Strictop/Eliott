{
 "cells": [
  {
   "cell_type": "code",
   "execution_count": 1,
   "metadata": {},
   "outputs": [
    {
     "name": "stdout",
     "output_type": "stream",
     "text": [
      "7\n"
     ]
    }
   ],
   "source": [
    "def nb_animaux(ferme, animal):\n",
    "    \"\"\" renvoie le nombre d'animaux animal présents dans la liste ferme\n",
    "    Par exemple nb_animaux([[\"lapin\", 5], [\"vache\", 7]], \"vache\") renvoie 7\n",
    "    \"\"\"\n",
    "    for liste in ferme:\n",
    "        if liste[0] == animal:\n",
    "            return liste[1]\n",
    "\n",
    "ferme_gaston_1 = [[\"lapin\", 5], [\"vache\", 7], [\"cochon\", 2], [\"cheval\", 4]]\n",
    "print(nb_animaux(ferme_gaston_1, \"vache\"))"
   ]
  }
 ],
 "metadata": {
  "kernelspec": {
   "display_name": "Python 3",
   "language": "python",
   "name": "python3"
  },
  "language_info": {
   "codemirror_mode": {
    "name": "ipython",
    "version": 3
   },
   "file_extension": ".py",
   "mimetype": "text/x-python",
   "name": "python",
   "nbconvert_exporter": "python",
   "pygments_lexer": "ipython3",
   "version": "3.10.4"
  },
  "orig_nbformat": 4
 },
 "nbformat": 4,
 "nbformat_minor": 2
}
