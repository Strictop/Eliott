{
 "cells": [
  {
   "cell_type": "markdown",
   "metadata": {},
   "source": [
    "# Construction, traitement et affichage de matrices"
   ]
  },
  {
   "cell_type": "markdown",
   "metadata": {},
   "source": [
    "## Définition :\n",
    "\n",
    "En mathématiques, une matrice $\\textbf{M}(m \\times n)$ est un tableau de nombres possédant $m$ lignes et $n$ colonnes. Chaque élément de ce tableau est repéré par deux indices i et j tel que :\n",
    "\n",
    "<img src=\"https://upload.wikimedia.org/wikipedia/commons/thumb/d/d1/Matrice.svg/495px-Matrice.svg.png\" width=\"50%\">\n",
    "<center><em>Source<a href= \"https://fr.wikipedia.org/wiki/Matrice_(math%C3%A9matiques)\"> wikipédia</a><em></center>"
   ]
  },
  {
   "cell_type": "markdown",
   "metadata": {},
   "source": [
    "## Création de matrices au format de l'afficheur d'un BBC micro:bit :\n",
    "\n",
    "On peut représenter les 25 LEDs de l'écran d'un BBC micro:bit par une matrice carrée (5x5) pour laquelle chaque élément peut prendre une valeur entière comprise entre 0 et 9. Cette valeur représente la luminosité de la LED correspondante.\n",
    "\n",
    "Par exemple, l'affichage d'un \"smiley happy\" :\n",
    "\n",
    "\n",
    "<img src=\"https://ericecmorlaix.github.io/img/bbc_happy.png\" width=\"25%\">\n",
    "<center><em>Image du simulateur <a href= \"http://jython.tobiaskohn.ch/\">TigerJython</a><em></center>\n",
    "\n",
    "correspond à la matrice :\n",
    "$$joyeux =\\begin{pmatrix}\n",
    "& 0 & 0 & 0 & 0 & 0 & \\\\\n",
    "& 0 & 9 & 0 & 9 & 0 & \\\\\n",
    "& 0 & 0 & 0 & 0 & 0 & \\\\\n",
    "& 9 & 0 & 0 & 0 & 9 & \\\\\n",
    "& 0 & 9 & 9 & 9 & 0 & \\\\\n",
    "\\end{pmatrix}$$\n",
    "\n",
    "et au tableau définit en Python tel que :"
   ]
  },
  {
   "cell_type": "code",
   "execution_count": 4,
   "metadata": {},
   "outputs": [
    {
     "data": {
      "text/plain": [
       "[[0, 0, 0, 0, 0],\n",
       " [0, 9, 0, 9, 0],\n",
       " [0, 0, 0, 0, 0],\n",
       " [9, 0, 0, 0, 9],\n",
       " [0, 9, 9, 9, 0]]"
      ]
     },
     "execution_count": 4,
     "metadata": {},
     "output_type": "execute_result"
    }
   ],
   "source": [
    "joyeux = [[0, 0, 0, 0, 0],\n",
    "          [0, 9, 0, 9, 0],\n",
    "          [0, 0, 0, 0, 0],\n",
    "          [9, 0, 0, 0, 9],\n",
    "          [0, 9, 9, 9, 0]]\n",
    "joyeux"
   ]
  },
  {
   "cell_type": "markdown",
   "metadata": {},
   "source": [
    "<h3 class='fa fa-code' style=\"color: MediumSeaGreen\"> A coder vous même :</h3>\n",
    "\n",
    "Définir le tableau pour l'affichage d'un \"smiley sad\" :"
   ]
  },
  {
   "cell_type": "code",
   "execution_count": 5,
   "metadata": {},
   "outputs": [
    {
     "data": {
      "text/plain": [
       "[[0, 0, 0, 0, 0],\n",
       " [0, 9, 0, 9, 0],\n",
       " [0, 0, 0, 0, 0],\n",
       " [0, 9, 9, 9, 0],\n",
       " [9, 0, 0, 0, 9]]"
      ]
     },
     "execution_count": 5,
     "metadata": {},
     "output_type": "execute_result"
    }
   ],
   "source": [
    "triste = [[0,0,0,0,0],\n",
    "          [0,9,0,9,0],\n",
    "          [0,0,0,0,0],\n",
    "          [0,9,9,9,0],\n",
    "          [9,0,0,0,9]]\n",
    "triste"
   ]
  },
  {
   "cell_type": "markdown",
   "metadata": {},
   "source": [
    "## Afficher une matrice :\n",
    "\n",
    "### Affichage en $\\LaTeX{}$ dans ce notebook jupyter :\n",
    "\n",
    "La fonction `print()` génère un affichage en ligne d'un tableau et non pas un format matricielle, lignes/colonnes :"
   ]
  },
  {
   "cell_type": "code",
   "execution_count": 6,
   "metadata": {},
   "outputs": [
    {
     "name": "stdout",
     "output_type": "stream",
     "text": [
      "[[0, 0, 0, 0, 0], [0, 9, 0, 9, 0], [0, 0, 0, 0, 0], [9, 0, 0, 0, 9], [0, 9, 9, 9, 0]]\n"
     ]
    }
   ],
   "source": [
    "print(joyeux)"
   ]
  },
  {
   "cell_type": "markdown",
   "metadata": {},
   "source": [
    "Pour afficher comme il se doit nos matrices dans ce document, nous allons définir une fonction basée sur la fonction `Latex()` du module `IPython.display`\n",
    "\n",
    "<h3 class='fa fa-cogs' style=\"color: darkorange\"> A faire vous même :</h3>\n",
    "\n",
    "Essayer la fonction suivante avec les matrices `joyeux` puis `triste`."
   ]
  },
  {
   "cell_type": "code",
   "execution_count": 7,
   "metadata": {},
   "outputs": [],
   "source": [
    "from IPython.display import Latex\n",
    "\n",
    "def affiche_latex(matrice) :\n",
    "    '''\n",
    "    ################################################\n",
    "    #                                              #\n",
    "    #   Documentation de la fonction ...........   #\n",
    "    #                                              #\n",
    "    ################################################\n",
    "    \n",
    "    '''\n",
    "    \n",
    "    S = '$$\\\\begin{pmatrix}'\n",
    "    for i in range(len(matrice)) :\n",
    "        S += '&'\n",
    "        for j in range(len(matrice[i])) :\n",
    "            S += f' {matrice[i][j]} &'\n",
    "        S +=\" \\\\\\\\\"\n",
    "    S +='\\\\end{pmatrix}$$'\n",
    "    return Latex(S)"
   ]
  },
  {
   "cell_type": "code",
   "execution_count": 8,
   "metadata": {},
   "outputs": [
    {
     "data": {
      "text/latex": [
       "$$\\begin{pmatrix}& 0 & 0 & 0 & 0 & 0 & \\\\& 0 & 9 & 0 & 9 & 0 & \\\\& 0 & 0 & 0 & 0 & 0 & \\\\& 9 & 0 & 0 & 0 & 9 & \\\\& 0 & 9 & 9 & 9 & 0 & \\\\\\end{pmatrix}$$"
      ],
      "text/plain": [
       "<IPython.core.display.Latex object>"
      ]
     },
     "execution_count": 8,
     "metadata": {},
     "output_type": "execute_result"
    }
   ],
   "source": [
    "affiche_latex(joyeux)"
   ]
  },
  {
   "cell_type": "code",
   "execution_count": 9,
   "metadata": {},
   "outputs": [
    {
     "data": {
      "text/latex": [
       "$$\\begin{pmatrix}& 0 & 0 & 0 & 0 & 0 & \\\\& 0 & 9 & 0 & 9 & 0 & \\\\& 0 & 0 & 0 & 0 & 0 & \\\\& 0 & 9 & 9 & 9 & 0 & \\\\& 9 & 0 & 0 & 0 & 9 & \\\\\\end{pmatrix}$$"
      ],
      "text/plain": [
       "<IPython.core.display.Latex object>"
      ]
     },
     "execution_count": 9,
     "metadata": {},
     "output_type": "execute_result"
    }
   ],
   "source": [
    "affiche_latex(triste)"
   ]
  },
  {
   "cell_type": "markdown",
   "metadata": {},
   "source": [
    "Que fait la fonction `affiche_latex()`? Rédiger une docstring pour cette fonction..."
   ]
  },
  {
   "cell_type": "code",
   "execution_count": 10,
   "metadata": {},
   "outputs": [
    {
     "name": "stdout",
     "output_type": "stream",
     "text": [
      "Help on function affiche_latex in module __main__:\n",
      "\n",
      "affiche_latex(matrice)\n",
      "    ################################################\n",
      "    #                                              #\n",
      "    #   Documentation de la fonction ...........   #\n",
      "    #                                              #\n",
      "    ################################################\n",
      "\n"
     ]
    }
   ],
   "source": [
    "help(affiche_latex)"
   ]
  },
  {
   "cell_type": "markdown",
   "metadata": {},
   "source": [
    "### Affichage sur l'écran d'un BBC micro:bit :\n",
    "\n",
    ">La fonction: `display.set_pixel(x,y,n)` permet d’allumer la LED de la colonne `x` (nombre entier entre 0 et 4) et de la ligne `y` (nombre entier entre 0 et 4) avec un niveau d'intensité lumineuse `n` (nombre entier entre 0 et 9).\n",
    ">\n",
    ">Exemple: `display.set_pixel(1,2,7)` allume la LED située à la colonne 1 de la ligne 2 au niveau d'intensité lumineuse 7.\n",
    ">\n",
    ">[Guide pour matrice à LED](https://microbit.org/guide/hardware/leds/)"
   ]
  },
  {
   "cell_type": "markdown",
   "metadata": {},
   "source": [
    "<h3 class='fa fa-code' style=\"color: darkorange\"> A coder vous même :</h3>\n",
    "\n",
    "Dans le programme suivant, définir une fonction `affiche_microbit(matrice)` qui :\n",
    "   - prend en paramètre une matrice (5x5) dont les éléments sont des nombres entiers compris entre 0 et 9 ;\n",
    "   - parcourt cette matrice par ligne et par colonne avec deux boucles `for` imbriquées ;\n",
    "   - lit la valeur de chaque élément et l'affecte au pixel (LED) correspondant sur l'écran du BBC micro:bit. \n",
    "\n",
    "Tester votre programme sur simulateur et sur BBC micro:bit pour les matrices `joyeux` et `triste`."
   ]
  },
  {
   "cell_type": "code",
   "execution_count": 11,
   "metadata": {},
   "outputs": [
    {
     "ename": "ModuleNotFoundError",
     "evalue": "No module named 'microbit'",
     "output_type": "error",
     "traceback": [
      "\u001b[0;31m---------------------------------------------------------------------------\u001b[0m",
      "\u001b[0;31mModuleNotFoundError\u001b[0m                       Traceback (most recent call last)",
      "Cell \u001b[0;32mIn[11], line 1\u001b[0m\n\u001b[0;32m----> 1\u001b[0m \u001b[39mfrom\u001b[39;00m \u001b[39mmicrobit\u001b[39;00m \u001b[39mimport\u001b[39;00m \u001b[39m*\u001b[39m\n\u001b[1;32m      3\u001b[0m joyeux \u001b[39m=\u001b[39m [[\u001b[39m0\u001b[39m, \u001b[39m0\u001b[39m, \u001b[39m0\u001b[39m, \u001b[39m0\u001b[39m, \u001b[39m0\u001b[39m],\n\u001b[1;32m      4\u001b[0m           [\u001b[39m0\u001b[39m, \u001b[39m9\u001b[39m, \u001b[39m0\u001b[39m, \u001b[39m9\u001b[39m, \u001b[39m0\u001b[39m],\n\u001b[1;32m      5\u001b[0m           [\u001b[39m0\u001b[39m, \u001b[39m0\u001b[39m, \u001b[39m0\u001b[39m, \u001b[39m0\u001b[39m, \u001b[39m0\u001b[39m],\n\u001b[1;32m      6\u001b[0m           [\u001b[39m9\u001b[39m, \u001b[39m0\u001b[39m, \u001b[39m0\u001b[39m, \u001b[39m0\u001b[39m, \u001b[39m9\u001b[39m],\n\u001b[1;32m      7\u001b[0m           [\u001b[39m0\u001b[39m, \u001b[39m9\u001b[39m, \u001b[39m9\u001b[39m, \u001b[39m9\u001b[39m, \u001b[39m0\u001b[39m]]\n\u001b[1;32m      9\u001b[0m \u001b[39mdef\u001b[39;00m \u001b[39maffiche_microbit\u001b[39m(matrice) :\n",
      "\u001b[0;31mModuleNotFoundError\u001b[0m: No module named 'microbit'"
     ]
    }
   ],
   "source": [
    "from microbit import *\n",
    "\n",
    "joyeux = [[0, 0, 0, 0, 0],\n",
    "          [0, 9, 0, 9, 0],\n",
    "          [0, 0, 0, 0, 0],\n",
    "          [9, 0, 0, 0, 9],\n",
    "          [0, 9, 9, 9, 0]]\n",
    "\n",
    "def affiche_microbit(matrice) :\n",
    "    '''\n",
    "    ################################################\n",
    "    #                                              #\n",
    "    #   Documentation de la fonction ...........   #\n",
    "    #                                              #\n",
    "    ################################################\n",
    "    \n",
    "    '''\n",
    "    for j in range(len(matrice)): \n",
    "        for i in range(len(matrice)):\n",
    "            display.set_pixel(j,i,matrice[i][j])\n",
    "            \n",
    "\n",
    "affiche_microbit(joyeux)"
   ]
  },
  {
   "cell_type": "markdown",
   "metadata": {},
   "source": [
    "<h3 class='fa fa-rocket' style=\"color: tomato\"> Prolongement :</h3>\n",
    "\n",
    "1. Modifier le programme pour afficher alternativement les images `joyeux` puis `triste` ;\n",
    "\n",
    "2. Redéfinir une fonction `affiche_microbit(matrice)` utilisant la classe `Image` et la fonction `display.show()` :"
   ]
  },
  {
   "cell_type": "code",
   "execution_count": null,
   "metadata": {},
   "outputs": [],
   "source": [
    "monImage = Image('33333:36663:36963:36663:33333:')\n",
    "display.show(monImage)"
   ]
  },
  {
   "cell_type": "markdown",
   "metadata": {},
   "source": [
    "### Affichage sur une grille IPythonBlocks dans ce notebook jupyter :\n",
    "\n",
    "Instructions de base pour l'utilisation du module [IPythonBlocks](http://www.ipythonblocks.org/) :"
   ]
  },
  {
   "cell_type": "code",
   "execution_count": 13,
   "metadata": {},
   "outputs": [
    {
     "ename": "ModuleNotFoundError",
     "evalue": "No module named 'ipythonblocks'",
     "output_type": "error",
     "traceback": [
      "\u001b[0;31m---------------------------------------------------------------------------\u001b[0m",
      "\u001b[0;31mModuleNotFoundError\u001b[0m                       Traceback (most recent call last)",
      "Cell \u001b[0;32mIn[13], line 2\u001b[0m\n\u001b[1;32m      1\u001b[0m \u001b[39m# On importe la fonction BlockGrid() du module ipythonblocks\u001b[39;00m\n\u001b[0;32m----> 2\u001b[0m \u001b[39mfrom\u001b[39;00m \u001b[39mipythonblocks\u001b[39;00m \u001b[39mimport\u001b[39;00m BlockGrid\n\u001b[1;32m      3\u001b[0m \u001b[39m# On crée un objet maGrille, une instance de BlockGrid\u001b[39;00m\n\u001b[1;32m      4\u001b[0m maGrille \u001b[39m=\u001b[39m BlockGrid(\u001b[39m8\u001b[39m,\u001b[39m5\u001b[39m, fill\u001b[39m=\u001b[39m(\u001b[39m0\u001b[39m, \u001b[39m0\u001b[39m, \u001b[39m0\u001b[39m), block_size\u001b[39m=\u001b[39m\u001b[39m30\u001b[39m)\n",
      "\u001b[0;31mModuleNotFoundError\u001b[0m: No module named 'ipythonblocks'"
     ]
    }
   ],
   "source": [
    "# On importe la fonction BlockGrid() du module ipythonblocks\n",
    "from ipythonblocks import BlockGrid\n",
    "# On crée un objet maGrille, une instance de BlockGrid\n",
    "maGrille = BlockGrid(8,5, fill=(0, 0, 0), block_size=30)\n",
    "# On accède à chaque case de la grille par ces index [i,j] pour modifier sa couleur (rouge, vert, bleu)\n",
    "maGrille[2,3]=(255, 0, 0)\n",
    "# On affiche notre grille\n",
    "maGrille"
   ]
  },
  {
   "cell_type": "markdown",
   "metadata": {},
   "source": [
    "<h3 class='fa fa-code' style=\"color: darkorange\"> A coder vous même :</h3>\n",
    "\n",
    "Dans le programme suivant, définir une fonction `affiche_ipythonblocks(matrice)` qui :\n",
    "   - prend en paramètre une matrice (5x5) dont les éléments sont des nombres entiers compris entre 0 et 9 ;\n",
    "   - parcourt cette matrice par ligne et par colonne avec deux boucles `for` imbriquées ;\n",
    "   - lit la valeur de chaque élément et l'adapte à la couleur de la case correspondante dans une grille ipythonblocks (5x5). \n",
    "\n",
    "Tester votre programme dans ce notebook pour les matrices `joyeux` et `triste`."
   ]
  },
  {
   "cell_type": "code",
   "execution_count": 25,
   "metadata": {},
   "outputs": [
    {
     "name": "stdout",
     "output_type": "stream",
     "text": [
      "Requirement already satisfied: ipythonblocks in /workspace/.pyenv_mirror/user/current/lib/python3.8/site-packages (1.9.0)\n",
      "Requirement already satisfied: notebook>=4.0 in /home/gitpod/.pyenv/versions/3.8.16/lib/python3.8/site-packages (from ipythonblocks) (6.5.2)\n",
      "Requirement already satisfied: ipython>=4.0 in /home/gitpod/.pyenv/versions/3.8.16/lib/python3.8/site-packages (from ipythonblocks) (8.8.0)\n",
      "Requirement already satisfied: requests>=1.0 in /home/gitpod/.pyenv/versions/3.8.16/lib/python3.8/site-packages (from ipythonblocks) (2.28.1)\n",
      "Requirement already satisfied: stack-data in /home/gitpod/.pyenv/versions/3.8.16/lib/python3.8/site-packages (from ipython>=4.0->ipythonblocks) (0.6.2)\n",
      "Requirement already satisfied: traitlets>=5 in /home/gitpod/.pyenv/versions/3.8.16/lib/python3.8/site-packages (from ipython>=4.0->ipythonblocks) (5.8.1)\n",
      "Requirement already satisfied: matplotlib-inline in /home/gitpod/.pyenv/versions/3.8.16/lib/python3.8/site-packages (from ipython>=4.0->ipythonblocks) (0.1.6)\n",
      "Requirement already satisfied: backcall in /home/gitpod/.pyenv/versions/3.8.16/lib/python3.8/site-packages (from ipython>=4.0->ipythonblocks) (0.2.0)\n",
      "Requirement already satisfied: decorator in /home/gitpod/.pyenv/versions/3.8.16/lib/python3.8/site-packages (from ipython>=4.0->ipythonblocks) (5.1.1)\n",
      "Requirement already satisfied: pickleshare in /home/gitpod/.pyenv/versions/3.8.16/lib/python3.8/site-packages (from ipython>=4.0->ipythonblocks) (0.7.5)\n",
      "Requirement already satisfied: jedi>=0.16 in /home/gitpod/.pyenv/versions/3.8.16/lib/python3.8/site-packages (from ipython>=4.0->ipythonblocks) (0.18.2)\n",
      "Requirement already satisfied: pygments>=2.4.0 in /home/gitpod/.pyenv/versions/3.8.16/lib/python3.8/site-packages (from ipython>=4.0->ipythonblocks) (2.14.0)\n",
      "Requirement already satisfied: pexpect>4.3 in /home/gitpod/.pyenv/versions/3.8.16/lib/python3.8/site-packages (from ipython>=4.0->ipythonblocks) (4.8.0)\n",
      "Requirement already satisfied: prompt-toolkit<3.1.0,>=3.0.11 in /home/gitpod/.pyenv/versions/3.8.16/lib/python3.8/site-packages (from ipython>=4.0->ipythonblocks) (3.0.36)\n",
      "Requirement already satisfied: ipython-genutils in /home/gitpod/.pyenv/versions/3.8.16/lib/python3.8/site-packages (from notebook>=4.0->ipythonblocks) (0.2.0)\n",
      "Requirement already satisfied: nest-asyncio>=1.5 in /home/gitpod/.pyenv/versions/3.8.16/lib/python3.8/site-packages (from notebook>=4.0->ipythonblocks) (1.5.6)\n",
      "Requirement already satisfied: tornado>=6.1 in /home/gitpod/.pyenv/versions/3.8.16/lib/python3.8/site-packages (from notebook>=4.0->ipythonblocks) (6.2)\n",
      "Requirement already satisfied: prometheus-client in /home/gitpod/.pyenv/versions/3.8.16/lib/python3.8/site-packages (from notebook>=4.0->ipythonblocks) (0.15.0)\n",
      "Requirement already satisfied: nbclassic>=0.4.7 in /home/gitpod/.pyenv/versions/3.8.16/lib/python3.8/site-packages (from notebook>=4.0->ipythonblocks) (0.4.8)\n",
      "Requirement already satisfied: argon2-cffi in /home/gitpod/.pyenv/versions/3.8.16/lib/python3.8/site-packages (from notebook>=4.0->ipythonblocks) (21.3.0)\n",
      "Requirement already satisfied: terminado>=0.8.3 in /home/gitpod/.pyenv/versions/3.8.16/lib/python3.8/site-packages (from notebook>=4.0->ipythonblocks) (0.17.1)\n",
      "Requirement already satisfied: pyzmq>=17 in /home/gitpod/.pyenv/versions/3.8.16/lib/python3.8/site-packages (from notebook>=4.0->ipythonblocks) (24.0.1)\n",
      "Requirement already satisfied: jupyter-client>=5.3.4 in /home/gitpod/.pyenv/versions/3.8.16/lib/python3.8/site-packages (from notebook>=4.0->ipythonblocks) (7.4.8)\n",
      "Requirement already satisfied: Send2Trash>=1.8.0 in /home/gitpod/.pyenv/versions/3.8.16/lib/python3.8/site-packages (from notebook>=4.0->ipythonblocks) (1.8.0)\n",
      "Requirement already satisfied: nbconvert>=5 in /home/gitpod/.pyenv/versions/3.8.16/lib/python3.8/site-packages (from notebook>=4.0->ipythonblocks) (7.2.7)\n",
      "Requirement already satisfied: nbformat in /home/gitpod/.pyenv/versions/3.8.16/lib/python3.8/site-packages (from notebook>=4.0->ipythonblocks) (5.7.1)\n",
      "Requirement already satisfied: jupyter-core>=4.6.1 in /home/gitpod/.pyenv/versions/3.8.16/lib/python3.8/site-packages (from notebook>=4.0->ipythonblocks) (5.1.3)\n",
      "Requirement already satisfied: jinja2 in /home/gitpod/.pyenv/versions/3.8.16/lib/python3.8/site-packages (from notebook>=4.0->ipythonblocks) (3.1.2)\n",
      "Requirement already satisfied: ipykernel in /home/gitpod/.pyenv/versions/3.8.16/lib/python3.8/site-packages (from notebook>=4.0->ipythonblocks) (6.20.1)\n",
      "Requirement already satisfied: charset-normalizer<3,>=2 in /home/gitpod/.pyenv/versions/3.8.16/lib/python3.8/site-packages (from requests>=1.0->ipythonblocks) (2.1.1)\n",
      "Requirement already satisfied: certifi>=2017.4.17 in /home/gitpod/.pyenv/versions/3.8.16/lib/python3.8/site-packages (from requests>=1.0->ipythonblocks) (2022.12.7)\n",
      "Requirement already satisfied: urllib3<1.27,>=1.21.1 in /home/gitpod/.pyenv/versions/3.8.16/lib/python3.8/site-packages (from requests>=1.0->ipythonblocks) (1.26.13)\n",
      "Requirement already satisfied: idna<4,>=2.5 in /home/gitpod/.pyenv/versions/3.8.16/lib/python3.8/site-packages (from requests>=1.0->ipythonblocks) (3.4)\n",
      "Requirement already satisfied: parso<0.9.0,>=0.8.0 in /home/gitpod/.pyenv/versions/3.8.16/lib/python3.8/site-packages (from jedi>=0.16->ipython>=4.0->ipythonblocks) (0.8.3)\n",
      "Requirement already satisfied: entrypoints in /home/gitpod/.pyenv/versions/3.8.16/lib/python3.8/site-packages (from jupyter-client>=5.3.4->notebook>=4.0->ipythonblocks) (0.4)\n",
      "Requirement already satisfied: python-dateutil>=2.8.2 in /home/gitpod/.pyenv/versions/3.8.16/lib/python3.8/site-packages (from jupyter-client>=5.3.4->notebook>=4.0->ipythonblocks) (2.8.2)\n",
      "Requirement already satisfied: platformdirs>=2.5 in /home/gitpod/.pyenv/versions/3.8.16/lib/python3.8/site-packages (from jupyter-core>=4.6.1->notebook>=4.0->ipythonblocks) (2.6.2)\n",
      "Requirement already satisfied: jupyter-server>=1.8 in /home/gitpod/.pyenv/versions/3.8.16/lib/python3.8/site-packages (from nbclassic>=0.4.7->notebook>=4.0->ipythonblocks) (2.0.6)\n",
      "Requirement already satisfied: notebook-shim>=0.1.0 in /home/gitpod/.pyenv/versions/3.8.16/lib/python3.8/site-packages (from nbclassic>=0.4.7->notebook>=4.0->ipythonblocks) (0.2.2)\n",
      "Requirement already satisfied: nbclient>=0.5.0 in /home/gitpod/.pyenv/versions/3.8.16/lib/python3.8/site-packages (from nbconvert>=5->notebook>=4.0->ipythonblocks) (0.7.2)\n",
      "Requirement already satisfied: bleach in /home/gitpod/.pyenv/versions/3.8.16/lib/python3.8/site-packages (from nbconvert>=5->notebook>=4.0->ipythonblocks) (5.0.1)\n",
      "Requirement already satisfied: packaging in /home/gitpod/.pyenv/versions/3.8.16/lib/python3.8/site-packages (from nbconvert>=5->notebook>=4.0->ipythonblocks) (23.0)\n",
      "Requirement already satisfied: beautifulsoup4 in /home/gitpod/.pyenv/versions/3.8.16/lib/python3.8/site-packages (from nbconvert>=5->notebook>=4.0->ipythonblocks) (4.11.1)\n",
      "Requirement already satisfied: importlib-metadata>=3.6 in /home/gitpod/.pyenv/versions/3.8.16/lib/python3.8/site-packages (from nbconvert>=5->notebook>=4.0->ipythonblocks) (6.0.0)\n",
      "Requirement already satisfied: pandocfilters>=1.4.1 in /home/gitpod/.pyenv/versions/3.8.16/lib/python3.8/site-packages (from nbconvert>=5->notebook>=4.0->ipythonblocks) (1.5.0)\n",
      "Requirement already satisfied: markupsafe>=2.0 in /home/gitpod/.pyenv/versions/3.8.16/lib/python3.8/site-packages (from nbconvert>=5->notebook>=4.0->ipythonblocks) (2.1.1)\n",
      "Requirement already satisfied: jupyterlab-pygments in /home/gitpod/.pyenv/versions/3.8.16/lib/python3.8/site-packages (from nbconvert>=5->notebook>=4.0->ipythonblocks) (0.2.2)\n",
      "Requirement already satisfied: mistune<3,>=2.0.3 in /home/gitpod/.pyenv/versions/3.8.16/lib/python3.8/site-packages (from nbconvert>=5->notebook>=4.0->ipythonblocks) (2.0.4)\n",
      "Requirement already satisfied: tinycss2 in /home/gitpod/.pyenv/versions/3.8.16/lib/python3.8/site-packages (from nbconvert>=5->notebook>=4.0->ipythonblocks) (1.2.1)\n",
      "Requirement already satisfied: defusedxml in /home/gitpod/.pyenv/versions/3.8.16/lib/python3.8/site-packages (from nbconvert>=5->notebook>=4.0->ipythonblocks) (0.7.1)\n",
      "Requirement already satisfied: jsonschema>=2.6 in /home/gitpod/.pyenv/versions/3.8.16/lib/python3.8/site-packages (from nbformat->notebook>=4.0->ipythonblocks) (4.17.3)\n",
      "Requirement already satisfied: fastjsonschema in /home/gitpod/.pyenv/versions/3.8.16/lib/python3.8/site-packages (from nbformat->notebook>=4.0->ipythonblocks) (2.16.2)\n",
      "Requirement already satisfied: ptyprocess>=0.5 in /home/gitpod/.pyenv/versions/3.8.16/lib/python3.8/site-packages (from pexpect>4.3->ipython>=4.0->ipythonblocks) (0.7.0)\n",
      "Requirement already satisfied: wcwidth in /home/gitpod/.pyenv/versions/3.8.16/lib/python3.8/site-packages (from prompt-toolkit<3.1.0,>=3.0.11->ipython>=4.0->ipythonblocks) (0.2.5)\n",
      "Requirement already satisfied: argon2-cffi-bindings in /home/gitpod/.pyenv/versions/3.8.16/lib/python3.8/site-packages (from argon2-cffi->notebook>=4.0->ipythonblocks) (21.2.0)\n",
      "Requirement already satisfied: psutil in /home/gitpod/.pyenv/versions/3.8.16/lib/python3.8/site-packages (from ipykernel->notebook>=4.0->ipythonblocks) (5.9.4)\n",
      "Requirement already satisfied: comm>=0.1.1 in /home/gitpod/.pyenv/versions/3.8.16/lib/python3.8/site-packages (from ipykernel->notebook>=4.0->ipythonblocks) (0.1.2)\n",
      "Requirement already satisfied: debugpy>=1.0 in /home/gitpod/.pyenv/versions/3.8.16/lib/python3.8/site-packages (from ipykernel->notebook>=4.0->ipythonblocks) (1.6.5)\n",
      "Requirement already satisfied: asttokens>=2.1.0 in /home/gitpod/.pyenv/versions/3.8.16/lib/python3.8/site-packages (from stack-data->ipython>=4.0->ipythonblocks) (2.2.1)\n",
      "Requirement already satisfied: pure-eval in /home/gitpod/.pyenv/versions/3.8.16/lib/python3.8/site-packages (from stack-data->ipython>=4.0->ipythonblocks) (0.2.2)\n",
      "Requirement already satisfied: executing>=1.2.0 in /home/gitpod/.pyenv/versions/3.8.16/lib/python3.8/site-packages (from stack-data->ipython>=4.0->ipythonblocks) (1.2.0)\n",
      "Requirement already satisfied: six in /home/gitpod/.pyenv/versions/3.8.16/lib/python3.8/site-packages (from asttokens>=2.1.0->stack-data->ipython>=4.0->ipythonblocks) (1.16.0)\n",
      "Requirement already satisfied: zipp>=0.5 in /home/gitpod/.pyenv/versions/3.8.16/lib/python3.8/site-packages (from importlib-metadata>=3.6->nbconvert>=5->notebook>=4.0->ipythonblocks) (3.11.0)\n",
      "Requirement already satisfied: importlib-resources>=1.4.0 in /home/gitpod/.pyenv/versions/3.8.16/lib/python3.8/site-packages (from jsonschema>=2.6->nbformat->notebook>=4.0->ipythonblocks) (5.10.2)\n",
      "Requirement already satisfied: pyrsistent!=0.17.0,!=0.17.1,!=0.17.2,>=0.14.0 in /home/gitpod/.pyenv/versions/3.8.16/lib/python3.8/site-packages (from jsonschema>=2.6->nbformat->notebook>=4.0->ipythonblocks) (0.19.3)\n",
      "Requirement already satisfied: pkgutil-resolve-name>=1.3.10 in /home/gitpod/.pyenv/versions/3.8.16/lib/python3.8/site-packages (from jsonschema>=2.6->nbformat->notebook>=4.0->ipythonblocks) (1.3.10)\n",
      "Requirement already satisfied: attrs>=17.4.0 in /home/gitpod/.pyenv/versions/3.8.16/lib/python3.8/site-packages (from jsonschema>=2.6->nbformat->notebook>=4.0->ipythonblocks) (22.2.0)\n",
      "Requirement already satisfied: anyio<4,>=3.1.0 in /home/gitpod/.pyenv/versions/3.8.16/lib/python3.8/site-packages (from jupyter-server>=1.8->nbclassic>=0.4.7->notebook>=4.0->ipythonblocks) (3.6.2)\n",
      "Requirement already satisfied: jupyter-server-terminals in /home/gitpod/.pyenv/versions/3.8.16/lib/python3.8/site-packages (from jupyter-server>=1.8->nbclassic>=0.4.7->notebook>=4.0->ipythonblocks) (0.4.4)\n",
      "Requirement already satisfied: jupyter-events>=0.4.0 in /home/gitpod/.pyenv/versions/3.8.16/lib/python3.8/site-packages (from jupyter-server>=1.8->nbclassic>=0.4.7->notebook>=4.0->ipythonblocks) (0.6.0)\n",
      "Requirement already satisfied: websocket-client in /home/gitpod/.pyenv/versions/3.8.16/lib/python3.8/site-packages (from jupyter-server>=1.8->nbclassic>=0.4.7->notebook>=4.0->ipythonblocks) (1.4.2)\n",
      "Requirement already satisfied: cffi>=1.0.1 in /home/gitpod/.pyenv/versions/3.8.16/lib/python3.8/site-packages (from argon2-cffi-bindings->argon2-cffi->notebook>=4.0->ipythonblocks) (1.15.1)\n",
      "Requirement already satisfied: soupsieve>1.2 in /home/gitpod/.pyenv/versions/3.8.16/lib/python3.8/site-packages (from beautifulsoup4->nbconvert>=5->notebook>=4.0->ipythonblocks) (2.3.2.post1)\n",
      "Requirement already satisfied: webencodings in /home/gitpod/.pyenv/versions/3.8.16/lib/python3.8/site-packages (from bleach->nbconvert>=5->notebook>=4.0->ipythonblocks) (0.5.1)\n",
      "Requirement already satisfied: sniffio>=1.1 in /home/gitpod/.pyenv/versions/3.8.16/lib/python3.8/site-packages (from anyio<4,>=3.1.0->jupyter-server>=1.8->nbclassic>=0.4.7->notebook>=4.0->ipythonblocks) (1.3.0)\n",
      "Requirement already satisfied: pycparser in /home/gitpod/.pyenv/versions/3.8.16/lib/python3.8/site-packages (from cffi>=1.0.1->argon2-cffi-bindings->argon2-cffi->notebook>=4.0->ipythonblocks) (2.21)\n",
      "Requirement already satisfied: pyyaml>=6.0 in /home/gitpod/.pyenv/versions/3.8.16/lib/python3.8/site-packages (from jupyter-events>=0.4.0->jupyter-server>=1.8->nbclassic>=0.4.7->notebook>=4.0->ipythonblocks) (6.0)\n",
      "Requirement already satisfied: python-json-logger>=2.0.4 in /home/gitpod/.pyenv/versions/3.8.16/lib/python3.8/site-packages (from jupyter-events>=0.4.0->jupyter-server>=1.8->nbclassic>=0.4.7->notebook>=4.0->ipythonblocks) (2.0.4)\n",
      "Requirement already satisfied: webcolors>=1.11 in /home/gitpod/.pyenv/versions/3.8.16/lib/python3.8/site-packages (from jsonschema>=2.6->nbformat->notebook>=4.0->ipythonblocks) (1.12)\n",
      "Requirement already satisfied: rfc3986-validator>0.1.0 in /home/gitpod/.pyenv/versions/3.8.16/lib/python3.8/site-packages (from jsonschema>=2.6->nbformat->notebook>=4.0->ipythonblocks) (0.1.1)\n",
      "Requirement already satisfied: fqdn in /home/gitpod/.pyenv/versions/3.8.16/lib/python3.8/site-packages (from jsonschema>=2.6->nbformat->notebook>=4.0->ipythonblocks) (1.5.1)\n",
      "Requirement already satisfied: isoduration in /home/gitpod/.pyenv/versions/3.8.16/lib/python3.8/site-packages (from jsonschema>=2.6->nbformat->notebook>=4.0->ipythonblocks) (20.11.0)\n",
      "Requirement already satisfied: jsonpointer>1.13 in /home/gitpod/.pyenv/versions/3.8.16/lib/python3.8/site-packages (from jsonschema>=2.6->nbformat->notebook>=4.0->ipythonblocks) (2.3)\n",
      "Requirement already satisfied: rfc3339-validator in /home/gitpod/.pyenv/versions/3.8.16/lib/python3.8/site-packages (from jsonschema>=2.6->nbformat->notebook>=4.0->ipythonblocks) (0.1.4)\n",
      "Requirement already satisfied: uri-template in /home/gitpod/.pyenv/versions/3.8.16/lib/python3.8/site-packages (from jsonschema>=2.6->nbformat->notebook>=4.0->ipythonblocks) (1.2.0)\n",
      "Requirement already satisfied: arrow>=0.15.0 in /home/gitpod/.pyenv/versions/3.8.16/lib/python3.8/site-packages (from isoduration->jsonschema>=2.6->nbformat->notebook>=4.0->ipythonblocks) (1.2.3)\n",
      "Note: you may need to restart the kernel to use updated packages.\n"
     ]
    }
   ],
   "source": [
    "%pip install ipythonblocks"
   ]
  },
  {
   "cell_type": "code",
   "execution_count": 21,
   "metadata": {},
   "outputs": [],
   "source": [
    "from ipythonblocks import BlockGrid\n",
    "\n",
    "def affiche_ipythonblocks(matrice):\n",
    "    \"\"\"\n",
    "    Affiche la matrice dans une grille ipythonblocks.\n",
    "    La matrice doit être une liste de listes représentant une image de 5x5 pixels.\n",
    "    Les valeurs des pixels doivent être des entiers entre 0 et 9 inclus.\n",
    "    \"\"\"\n",
    "    maGrille = BlockGrid(5, 5, fill=(0, 0, 0), block_size=30)\n",
    "    for i in range(5):\n",
    "        for j in range(5):\n",
    "            couleur = (matrice[i][j] * 25, matrice[i][j] * 25, matrice[i][j] * 25)\n",
    "            maGrille[i, j] = couleur\n",
    "    maGrille.show()"
   ]
  },
  {
   "cell_type": "code",
   "execution_count": 22,
   "metadata": {},
   "outputs": [
    {
     "data": {
      "text/html": [
       "<style type=\"text/css\">table.blockgrid {border: none;} .blockgrid tr {border: none;} .blockgrid td {padding: 0px;} #blocksb8f6c395-243c-48f4-80ea-2172555191a9 td {border: 1px solid white;}</style><table id=\"blocksb8f6c395-243c-48f4-80ea-2172555191a9\" class=\"blockgrid\"><tbody><tr><td title=\"Index: [0, 0]&#10;Color: (0, 0, 0)\" style=\"width: 30px; height: 30px;background-color: rgb(0, 0, 0);\"></td><td title=\"Index: [0, 1]&#10;Color: (0, 0, 0)\" style=\"width: 30px; height: 30px;background-color: rgb(0, 0, 0);\"></td><td title=\"Index: [0, 2]&#10;Color: (0, 0, 0)\" style=\"width: 30px; height: 30px;background-color: rgb(0, 0, 0);\"></td><td title=\"Index: [0, 3]&#10;Color: (0, 0, 0)\" style=\"width: 30px; height: 30px;background-color: rgb(0, 0, 0);\"></td><td title=\"Index: [0, 4]&#10;Color: (0, 0, 0)\" style=\"width: 30px; height: 30px;background-color: rgb(0, 0, 0);\"></td></tr><tr><td title=\"Index: [1, 0]&#10;Color: (0, 0, 0)\" style=\"width: 30px; height: 30px;background-color: rgb(0, 0, 0);\"></td><td title=\"Index: [1, 1]&#10;Color: (225, 225, 225)\" style=\"width: 30px; height: 30px;background-color: rgb(225, 225, 225);\"></td><td title=\"Index: [1, 2]&#10;Color: (0, 0, 0)\" style=\"width: 30px; height: 30px;background-color: rgb(0, 0, 0);\"></td><td title=\"Index: [1, 3]&#10;Color: (225, 225, 225)\" style=\"width: 30px; height: 30px;background-color: rgb(225, 225, 225);\"></td><td title=\"Index: [1, 4]&#10;Color: (0, 0, 0)\" style=\"width: 30px; height: 30px;background-color: rgb(0, 0, 0);\"></td></tr><tr><td title=\"Index: [2, 0]&#10;Color: (0, 0, 0)\" style=\"width: 30px; height: 30px;background-color: rgb(0, 0, 0);\"></td><td title=\"Index: [2, 1]&#10;Color: (0, 0, 0)\" style=\"width: 30px; height: 30px;background-color: rgb(0, 0, 0);\"></td><td title=\"Index: [2, 2]&#10;Color: (0, 0, 0)\" style=\"width: 30px; height: 30px;background-color: rgb(0, 0, 0);\"></td><td title=\"Index: [2, 3]&#10;Color: (0, 0, 0)\" style=\"width: 30px; height: 30px;background-color: rgb(0, 0, 0);\"></td><td title=\"Index: [2, 4]&#10;Color: (0, 0, 0)\" style=\"width: 30px; height: 30px;background-color: rgb(0, 0, 0);\"></td></tr><tr><td title=\"Index: [3, 0]&#10;Color: (225, 225, 225)\" style=\"width: 30px; height: 30px;background-color: rgb(225, 225, 225);\"></td><td title=\"Index: [3, 1]&#10;Color: (0, 0, 0)\" style=\"width: 30px; height: 30px;background-color: rgb(0, 0, 0);\"></td><td title=\"Index: [3, 2]&#10;Color: (0, 0, 0)\" style=\"width: 30px; height: 30px;background-color: rgb(0, 0, 0);\"></td><td title=\"Index: [3, 3]&#10;Color: (0, 0, 0)\" style=\"width: 30px; height: 30px;background-color: rgb(0, 0, 0);\"></td><td title=\"Index: [3, 4]&#10;Color: (225, 225, 225)\" style=\"width: 30px; height: 30px;background-color: rgb(225, 225, 225);\"></td></tr><tr><td title=\"Index: [4, 0]&#10;Color: (0, 0, 0)\" style=\"width: 30px; height: 30px;background-color: rgb(0, 0, 0);\"></td><td title=\"Index: [4, 1]&#10;Color: (225, 225, 225)\" style=\"width: 30px; height: 30px;background-color: rgb(225, 225, 225);\"></td><td title=\"Index: [4, 2]&#10;Color: (225, 225, 225)\" style=\"width: 30px; height: 30px;background-color: rgb(225, 225, 225);\"></td><td title=\"Index: [4, 3]&#10;Color: (225, 225, 225)\" style=\"width: 30px; height: 30px;background-color: rgb(225, 225, 225);\"></td><td title=\"Index: [4, 4]&#10;Color: (0, 0, 0)\" style=\"width: 30px; height: 30px;background-color: rgb(0, 0, 0);\"></td></tr></tbody></table>"
      ],
      "text/plain": [
       "<IPython.core.display.HTML object>"
      ]
     },
     "metadata": {},
     "output_type": "display_data"
    }
   ],
   "source": [
    "affiche_ipythonblocks(joyeux)"
   ]
  },
  {
   "cell_type": "code",
   "execution_count": 23,
   "metadata": {},
   "outputs": [
    {
     "data": {
      "text/html": [
       "<style type=\"text/css\">table.blockgrid {border: none;} .blockgrid tr {border: none;} .blockgrid td {padding: 0px;} #blockse721c06a-bb80-48af-bca3-852e01ad2ae0 td {border: 1px solid white;}</style><table id=\"blockse721c06a-bb80-48af-bca3-852e01ad2ae0\" class=\"blockgrid\"><tbody><tr><td title=\"Index: [0, 0]&#10;Color: (0, 0, 0)\" style=\"width: 30px; height: 30px;background-color: rgb(0, 0, 0);\"></td><td title=\"Index: [0, 1]&#10;Color: (0, 0, 0)\" style=\"width: 30px; height: 30px;background-color: rgb(0, 0, 0);\"></td><td title=\"Index: [0, 2]&#10;Color: (0, 0, 0)\" style=\"width: 30px; height: 30px;background-color: rgb(0, 0, 0);\"></td><td title=\"Index: [0, 3]&#10;Color: (0, 0, 0)\" style=\"width: 30px; height: 30px;background-color: rgb(0, 0, 0);\"></td><td title=\"Index: [0, 4]&#10;Color: (0, 0, 0)\" style=\"width: 30px; height: 30px;background-color: rgb(0, 0, 0);\"></td></tr><tr><td title=\"Index: [1, 0]&#10;Color: (0, 0, 0)\" style=\"width: 30px; height: 30px;background-color: rgb(0, 0, 0);\"></td><td title=\"Index: [1, 1]&#10;Color: (225, 225, 225)\" style=\"width: 30px; height: 30px;background-color: rgb(225, 225, 225);\"></td><td title=\"Index: [1, 2]&#10;Color: (0, 0, 0)\" style=\"width: 30px; height: 30px;background-color: rgb(0, 0, 0);\"></td><td title=\"Index: [1, 3]&#10;Color: (225, 225, 225)\" style=\"width: 30px; height: 30px;background-color: rgb(225, 225, 225);\"></td><td title=\"Index: [1, 4]&#10;Color: (0, 0, 0)\" style=\"width: 30px; height: 30px;background-color: rgb(0, 0, 0);\"></td></tr><tr><td title=\"Index: [2, 0]&#10;Color: (0, 0, 0)\" style=\"width: 30px; height: 30px;background-color: rgb(0, 0, 0);\"></td><td title=\"Index: [2, 1]&#10;Color: (0, 0, 0)\" style=\"width: 30px; height: 30px;background-color: rgb(0, 0, 0);\"></td><td title=\"Index: [2, 2]&#10;Color: (0, 0, 0)\" style=\"width: 30px; height: 30px;background-color: rgb(0, 0, 0);\"></td><td title=\"Index: [2, 3]&#10;Color: (0, 0, 0)\" style=\"width: 30px; height: 30px;background-color: rgb(0, 0, 0);\"></td><td title=\"Index: [2, 4]&#10;Color: (0, 0, 0)\" style=\"width: 30px; height: 30px;background-color: rgb(0, 0, 0);\"></td></tr><tr><td title=\"Index: [3, 0]&#10;Color: (0, 0, 0)\" style=\"width: 30px; height: 30px;background-color: rgb(0, 0, 0);\"></td><td title=\"Index: [3, 1]&#10;Color: (225, 225, 225)\" style=\"width: 30px; height: 30px;background-color: rgb(225, 225, 225);\"></td><td title=\"Index: [3, 2]&#10;Color: (225, 225, 225)\" style=\"width: 30px; height: 30px;background-color: rgb(225, 225, 225);\"></td><td title=\"Index: [3, 3]&#10;Color: (225, 225, 225)\" style=\"width: 30px; height: 30px;background-color: rgb(225, 225, 225);\"></td><td title=\"Index: [3, 4]&#10;Color: (0, 0, 0)\" style=\"width: 30px; height: 30px;background-color: rgb(0, 0, 0);\"></td></tr><tr><td title=\"Index: [4, 0]&#10;Color: (225, 225, 225)\" style=\"width: 30px; height: 30px;background-color: rgb(225, 225, 225);\"></td><td title=\"Index: [4, 1]&#10;Color: (0, 0, 0)\" style=\"width: 30px; height: 30px;background-color: rgb(0, 0, 0);\"></td><td title=\"Index: [4, 2]&#10;Color: (0, 0, 0)\" style=\"width: 30px; height: 30px;background-color: rgb(0, 0, 0);\"></td><td title=\"Index: [4, 3]&#10;Color: (0, 0, 0)\" style=\"width: 30px; height: 30px;background-color: rgb(0, 0, 0);\"></td><td title=\"Index: [4, 4]&#10;Color: (225, 225, 225)\" style=\"width: 30px; height: 30px;background-color: rgb(225, 225, 225);\"></td></tr></tbody></table>"
      ],
      "text/plain": [
       "<IPython.core.display.HTML object>"
      ]
     },
     "metadata": {},
     "output_type": "display_data"
    }
   ],
   "source": [
    "affiche_ipythonblocks(triste)"
   ]
  },
  {
   "cell_type": "markdown",
   "metadata": {},
   "source": [
    "## Création de matrices par compréhension :\n",
    "\n",
    "Déclarer une matrice élément par élément peux être fastidieux.\n",
    "\n",
    "La compréhension de liste va nous permettre d'automatiser cette tâche.\n",
    "\n",
    "<h3 class='fa fa-code' style=\"color: darkorange\"> A programmer vous même :</h3>\n",
    "\n",
    "En vous inspirant de l'exemple suivant :"
   ]
  },
  {
   "cell_type": "code",
   "execution_count": 28,
   "metadata": {},
   "outputs": [
    {
     "data": {
      "text/plain": [
       "[[0, 0, 0, 0, 0],\n",
       " [0, 0, 0, 0, 0],\n",
       " [9, 9, 9, 9, 9],\n",
       " [0, 0, 0, 0, 0],\n",
       " [0, 0, 0, 0, 0]]"
      ]
     },
     "execution_count": 28,
     "metadata": {},
     "output_type": "execute_result"
    }
   ],
   "source": [
    "moins = [[0 if i != 2 else 9 for j in range(5)] for i in range(5)]\n",
    "moins"
   ]
  },
  {
   "cell_type": "code",
   "execution_count": 29,
   "metadata": {},
   "outputs": [
    {
     "data": {
      "text/latex": [
       "$$\\begin{pmatrix}& 0 & 0 & 0 & 0 & 0 & \\\\& 0 & 0 & 0 & 0 & 0 & \\\\& 9 & 9 & 9 & 9 & 9 & \\\\& 0 & 0 & 0 & 0 & 0 & \\\\& 0 & 0 & 0 & 0 & 0 & \\\\\\end{pmatrix}$$"
      ],
      "text/plain": [
       "<IPython.core.display.Latex object>"
      ]
     },
     "execution_count": 29,
     "metadata": {},
     "output_type": "execute_result"
    }
   ],
   "source": [
    "affiche_latex(moins)"
   ]
  },
  {
   "cell_type": "code",
   "execution_count": 30,
   "metadata": {},
   "outputs": [
    {
     "data": {
      "text/html": [
       "<style type=\"text/css\">table.blockgrid {border: none;} .blockgrid tr {border: none;} .blockgrid td {padding: 0px;} #blocks5b212485-ca1f-4055-8098-7d90b3ff1701 td {border: 1px solid white;}</style><table id=\"blocks5b212485-ca1f-4055-8098-7d90b3ff1701\" class=\"blockgrid\"><tbody><tr><td title=\"Index: [0, 0]&#10;Color: (0, 0, 0)\" style=\"width: 30px; height: 30px;background-color: rgb(0, 0, 0);\"></td><td title=\"Index: [0, 1]&#10;Color: (0, 0, 0)\" style=\"width: 30px; height: 30px;background-color: rgb(0, 0, 0);\"></td><td title=\"Index: [0, 2]&#10;Color: (0, 0, 0)\" style=\"width: 30px; height: 30px;background-color: rgb(0, 0, 0);\"></td><td title=\"Index: [0, 3]&#10;Color: (0, 0, 0)\" style=\"width: 30px; height: 30px;background-color: rgb(0, 0, 0);\"></td><td title=\"Index: [0, 4]&#10;Color: (0, 0, 0)\" style=\"width: 30px; height: 30px;background-color: rgb(0, 0, 0);\"></td></tr><tr><td title=\"Index: [1, 0]&#10;Color: (0, 0, 0)\" style=\"width: 30px; height: 30px;background-color: rgb(0, 0, 0);\"></td><td title=\"Index: [1, 1]&#10;Color: (0, 0, 0)\" style=\"width: 30px; height: 30px;background-color: rgb(0, 0, 0);\"></td><td title=\"Index: [1, 2]&#10;Color: (0, 0, 0)\" style=\"width: 30px; height: 30px;background-color: rgb(0, 0, 0);\"></td><td title=\"Index: [1, 3]&#10;Color: (0, 0, 0)\" style=\"width: 30px; height: 30px;background-color: rgb(0, 0, 0);\"></td><td title=\"Index: [1, 4]&#10;Color: (0, 0, 0)\" style=\"width: 30px; height: 30px;background-color: rgb(0, 0, 0);\"></td></tr><tr><td title=\"Index: [2, 0]&#10;Color: (225, 225, 225)\" style=\"width: 30px; height: 30px;background-color: rgb(225, 225, 225);\"></td><td title=\"Index: [2, 1]&#10;Color: (225, 225, 225)\" style=\"width: 30px; height: 30px;background-color: rgb(225, 225, 225);\"></td><td title=\"Index: [2, 2]&#10;Color: (225, 225, 225)\" style=\"width: 30px; height: 30px;background-color: rgb(225, 225, 225);\"></td><td title=\"Index: [2, 3]&#10;Color: (225, 225, 225)\" style=\"width: 30px; height: 30px;background-color: rgb(225, 225, 225);\"></td><td title=\"Index: [2, 4]&#10;Color: (225, 225, 225)\" style=\"width: 30px; height: 30px;background-color: rgb(225, 225, 225);\"></td></tr><tr><td title=\"Index: [3, 0]&#10;Color: (0, 0, 0)\" style=\"width: 30px; height: 30px;background-color: rgb(0, 0, 0);\"></td><td title=\"Index: [3, 1]&#10;Color: (0, 0, 0)\" style=\"width: 30px; height: 30px;background-color: rgb(0, 0, 0);\"></td><td title=\"Index: [3, 2]&#10;Color: (0, 0, 0)\" style=\"width: 30px; height: 30px;background-color: rgb(0, 0, 0);\"></td><td title=\"Index: [3, 3]&#10;Color: (0, 0, 0)\" style=\"width: 30px; height: 30px;background-color: rgb(0, 0, 0);\"></td><td title=\"Index: [3, 4]&#10;Color: (0, 0, 0)\" style=\"width: 30px; height: 30px;background-color: rgb(0, 0, 0);\"></td></tr><tr><td title=\"Index: [4, 0]&#10;Color: (0, 0, 0)\" style=\"width: 30px; height: 30px;background-color: rgb(0, 0, 0);\"></td><td title=\"Index: [4, 1]&#10;Color: (0, 0, 0)\" style=\"width: 30px; height: 30px;background-color: rgb(0, 0, 0);\"></td><td title=\"Index: [4, 2]&#10;Color: (0, 0, 0)\" style=\"width: 30px; height: 30px;background-color: rgb(0, 0, 0);\"></td><td title=\"Index: [4, 3]&#10;Color: (0, 0, 0)\" style=\"width: 30px; height: 30px;background-color: rgb(0, 0, 0);\"></td><td title=\"Index: [4, 4]&#10;Color: (0, 0, 0)\" style=\"width: 30px; height: 30px;background-color: rgb(0, 0, 0);\"></td></tr></tbody></table>"
      ],
      "text/plain": [
       "<IPython.core.display.HTML object>"
      ]
     },
     "metadata": {},
     "output_type": "display_data"
    }
   ],
   "source": [
    "affiche_ipythonblocks(moins)"
   ]
  },
  {
   "cell_type": "markdown",
   "metadata": {},
   "source": [
    "Proposer des solutions pour générer par compréhension les matrices telles que :\n",
    "\n",
    "$$plein\\_feux = \\begin{pmatrix}\n",
    "& 9 & 9 & 9 & 9 & 9 & \\\\\n",
    "& 9 & 9 & 9 & 9 & 9 & \\\\\n",
    "& 9 & 9 & 9 & 9 & 9 & \\\\\n",
    "& 9 & 9 & 9 & 9 & 9 & \\\\\n",
    "& 9 & 9 & 9 & 9 & 9 & \\\\\n",
    "\\end{pmatrix}$$"
   ]
  },
  {
   "cell_type": "code",
   "execution_count": 35,
   "metadata": {},
   "outputs": [],
   "source": [
    "plein_feux = [[9 if i != -1 else 9 for j in range(5)] for i in range(5)]"
   ]
  },
  {
   "cell_type": "code",
   "execution_count": 36,
   "metadata": {},
   "outputs": [
    {
     "data": {
      "text/latex": [
       "$$\\begin{pmatrix}& 9 & 9 & 9 & 9 & 9 & \\\\& 9 & 9 & 9 & 9 & 9 & \\\\& 9 & 9 & 9 & 9 & 9 & \\\\& 9 & 9 & 9 & 9 & 9 & \\\\& 9 & 9 & 9 & 9 & 9 & \\\\\\end{pmatrix}$$"
      ],
      "text/plain": [
       "<IPython.core.display.Latex object>"
      ]
     },
     "execution_count": 36,
     "metadata": {},
     "output_type": "execute_result"
    }
   ],
   "source": [
    "affiche_latex(plein_feux)"
   ]
  },
  {
   "cell_type": "code",
   "execution_count": 38,
   "metadata": {},
   "outputs": [
    {
     "data": {
      "text/html": [
       "<style type=\"text/css\">table.blockgrid {border: none;} .blockgrid tr {border: none;} .blockgrid td {padding: 0px;} #blocks1d606aee-9c6e-44ca-ac3a-5b51507c7ecb td {border: 1px solid white;}</style><table id=\"blocks1d606aee-9c6e-44ca-ac3a-5b51507c7ecb\" class=\"blockgrid\"><tbody><tr><td title=\"Index: [0, 0]&#10;Color: (225, 225, 225)\" style=\"width: 30px; height: 30px;background-color: rgb(225, 225, 225);\"></td><td title=\"Index: [0, 1]&#10;Color: (225, 225, 225)\" style=\"width: 30px; height: 30px;background-color: rgb(225, 225, 225);\"></td><td title=\"Index: [0, 2]&#10;Color: (225, 225, 225)\" style=\"width: 30px; height: 30px;background-color: rgb(225, 225, 225);\"></td><td title=\"Index: [0, 3]&#10;Color: (225, 225, 225)\" style=\"width: 30px; height: 30px;background-color: rgb(225, 225, 225);\"></td><td title=\"Index: [0, 4]&#10;Color: (225, 225, 225)\" style=\"width: 30px; height: 30px;background-color: rgb(225, 225, 225);\"></td></tr><tr><td title=\"Index: [1, 0]&#10;Color: (225, 225, 225)\" style=\"width: 30px; height: 30px;background-color: rgb(225, 225, 225);\"></td><td title=\"Index: [1, 1]&#10;Color: (225, 225, 225)\" style=\"width: 30px; height: 30px;background-color: rgb(225, 225, 225);\"></td><td title=\"Index: [1, 2]&#10;Color: (225, 225, 225)\" style=\"width: 30px; height: 30px;background-color: rgb(225, 225, 225);\"></td><td title=\"Index: [1, 3]&#10;Color: (225, 225, 225)\" style=\"width: 30px; height: 30px;background-color: rgb(225, 225, 225);\"></td><td title=\"Index: [1, 4]&#10;Color: (225, 225, 225)\" style=\"width: 30px; height: 30px;background-color: rgb(225, 225, 225);\"></td></tr><tr><td title=\"Index: [2, 0]&#10;Color: (225, 225, 225)\" style=\"width: 30px; height: 30px;background-color: rgb(225, 225, 225);\"></td><td title=\"Index: [2, 1]&#10;Color: (225, 225, 225)\" style=\"width: 30px; height: 30px;background-color: rgb(225, 225, 225);\"></td><td title=\"Index: [2, 2]&#10;Color: (225, 225, 225)\" style=\"width: 30px; height: 30px;background-color: rgb(225, 225, 225);\"></td><td title=\"Index: [2, 3]&#10;Color: (225, 225, 225)\" style=\"width: 30px; height: 30px;background-color: rgb(225, 225, 225);\"></td><td title=\"Index: [2, 4]&#10;Color: (225, 225, 225)\" style=\"width: 30px; height: 30px;background-color: rgb(225, 225, 225);\"></td></tr><tr><td title=\"Index: [3, 0]&#10;Color: (225, 225, 225)\" style=\"width: 30px; height: 30px;background-color: rgb(225, 225, 225);\"></td><td title=\"Index: [3, 1]&#10;Color: (225, 225, 225)\" style=\"width: 30px; height: 30px;background-color: rgb(225, 225, 225);\"></td><td title=\"Index: [3, 2]&#10;Color: (225, 225, 225)\" style=\"width: 30px; height: 30px;background-color: rgb(225, 225, 225);\"></td><td title=\"Index: [3, 3]&#10;Color: (225, 225, 225)\" style=\"width: 30px; height: 30px;background-color: rgb(225, 225, 225);\"></td><td title=\"Index: [3, 4]&#10;Color: (225, 225, 225)\" style=\"width: 30px; height: 30px;background-color: rgb(225, 225, 225);\"></td></tr><tr><td title=\"Index: [4, 0]&#10;Color: (225, 225, 225)\" style=\"width: 30px; height: 30px;background-color: rgb(225, 225, 225);\"></td><td title=\"Index: [4, 1]&#10;Color: (225, 225, 225)\" style=\"width: 30px; height: 30px;background-color: rgb(225, 225, 225);\"></td><td title=\"Index: [4, 2]&#10;Color: (225, 225, 225)\" style=\"width: 30px; height: 30px;background-color: rgb(225, 225, 225);\"></td><td title=\"Index: [4, 3]&#10;Color: (225, 225, 225)\" style=\"width: 30px; height: 30px;background-color: rgb(225, 225, 225);\"></td><td title=\"Index: [4, 4]&#10;Color: (225, 225, 225)\" style=\"width: 30px; height: 30px;background-color: rgb(225, 225, 225);\"></td></tr></tbody></table>"
      ],
      "text/plain": [
       "<IPython.core.display.HTML object>"
      ]
     },
     "metadata": {},
     "output_type": "display_data"
    }
   ],
   "source": [
    "affiche_ipythonblocks(plein_feux)"
   ]
  },
  {
   "cell_type": "markdown",
   "metadata": {},
   "source": [
    "****\n",
    "$$plus = \\begin{pmatrix}\n",
    "& 0 & 0 & 9 & 0 & 0 & \\\\\n",
    "& 0 & 0 & 9 & 0 & 0 & \\\\\n",
    "& 9 & 9 & 9 & 9 & 9 & \\\\\n",
    "& 0 & 0 & 9 & 0 & 0 & \\\\\n",
    "& 0 & 0 & 9 & 0 & 0 & \\\\\n",
    "\\end{pmatrix}$$"
   ]
  },
  {
   "cell_type": "code",
   "execution_count": 39,
   "metadata": {},
   "outputs": [],
   "source": [
    "plus = [[0 if i != 2 and j !=2 else 9 for j in range(5)] for i in range(5)]"
   ]
  },
  {
   "cell_type": "code",
   "execution_count": 40,
   "metadata": {},
   "outputs": [
    {
     "data": {
      "text/latex": [
       "$$\\begin{pmatrix}& 0 & 0 & 9 & 0 & 0 & \\\\& 0 & 0 & 9 & 0 & 0 & \\\\& 9 & 9 & 9 & 9 & 9 & \\\\& 0 & 0 & 9 & 0 & 0 & \\\\& 0 & 0 & 9 & 0 & 0 & \\\\\\end{pmatrix}$$"
      ],
      "text/plain": [
       "<IPython.core.display.Latex object>"
      ]
     },
     "execution_count": 40,
     "metadata": {},
     "output_type": "execute_result"
    }
   ],
   "source": [
    "affiche_latex(plus)"
   ]
  },
  {
   "cell_type": "code",
   "execution_count": 41,
   "metadata": {},
   "outputs": [
    {
     "data": {
      "text/html": [
       "<style type=\"text/css\">table.blockgrid {border: none;} .blockgrid tr {border: none;} .blockgrid td {padding: 0px;} #blockseab6c84f-1da0-416c-9efb-0a288f22e572 td {border: 1px solid white;}</style><table id=\"blockseab6c84f-1da0-416c-9efb-0a288f22e572\" class=\"blockgrid\"><tbody><tr><td title=\"Index: [0, 0]&#10;Color: (0, 0, 0)\" style=\"width: 30px; height: 30px;background-color: rgb(0, 0, 0);\"></td><td title=\"Index: [0, 1]&#10;Color: (0, 0, 0)\" style=\"width: 30px; height: 30px;background-color: rgb(0, 0, 0);\"></td><td title=\"Index: [0, 2]&#10;Color: (225, 225, 225)\" style=\"width: 30px; height: 30px;background-color: rgb(225, 225, 225);\"></td><td title=\"Index: [0, 3]&#10;Color: (0, 0, 0)\" style=\"width: 30px; height: 30px;background-color: rgb(0, 0, 0);\"></td><td title=\"Index: [0, 4]&#10;Color: (0, 0, 0)\" style=\"width: 30px; height: 30px;background-color: rgb(0, 0, 0);\"></td></tr><tr><td title=\"Index: [1, 0]&#10;Color: (0, 0, 0)\" style=\"width: 30px; height: 30px;background-color: rgb(0, 0, 0);\"></td><td title=\"Index: [1, 1]&#10;Color: (0, 0, 0)\" style=\"width: 30px; height: 30px;background-color: rgb(0, 0, 0);\"></td><td title=\"Index: [1, 2]&#10;Color: (225, 225, 225)\" style=\"width: 30px; height: 30px;background-color: rgb(225, 225, 225);\"></td><td title=\"Index: [1, 3]&#10;Color: (0, 0, 0)\" style=\"width: 30px; height: 30px;background-color: rgb(0, 0, 0);\"></td><td title=\"Index: [1, 4]&#10;Color: (0, 0, 0)\" style=\"width: 30px; height: 30px;background-color: rgb(0, 0, 0);\"></td></tr><tr><td title=\"Index: [2, 0]&#10;Color: (225, 225, 225)\" style=\"width: 30px; height: 30px;background-color: rgb(225, 225, 225);\"></td><td title=\"Index: [2, 1]&#10;Color: (225, 225, 225)\" style=\"width: 30px; height: 30px;background-color: rgb(225, 225, 225);\"></td><td title=\"Index: [2, 2]&#10;Color: (225, 225, 225)\" style=\"width: 30px; height: 30px;background-color: rgb(225, 225, 225);\"></td><td title=\"Index: [2, 3]&#10;Color: (225, 225, 225)\" style=\"width: 30px; height: 30px;background-color: rgb(225, 225, 225);\"></td><td title=\"Index: [2, 4]&#10;Color: (225, 225, 225)\" style=\"width: 30px; height: 30px;background-color: rgb(225, 225, 225);\"></td></tr><tr><td title=\"Index: [3, 0]&#10;Color: (0, 0, 0)\" style=\"width: 30px; height: 30px;background-color: rgb(0, 0, 0);\"></td><td title=\"Index: [3, 1]&#10;Color: (0, 0, 0)\" style=\"width: 30px; height: 30px;background-color: rgb(0, 0, 0);\"></td><td title=\"Index: [3, 2]&#10;Color: (225, 225, 225)\" style=\"width: 30px; height: 30px;background-color: rgb(225, 225, 225);\"></td><td title=\"Index: [3, 3]&#10;Color: (0, 0, 0)\" style=\"width: 30px; height: 30px;background-color: rgb(0, 0, 0);\"></td><td title=\"Index: [3, 4]&#10;Color: (0, 0, 0)\" style=\"width: 30px; height: 30px;background-color: rgb(0, 0, 0);\"></td></tr><tr><td title=\"Index: [4, 0]&#10;Color: (0, 0, 0)\" style=\"width: 30px; height: 30px;background-color: rgb(0, 0, 0);\"></td><td title=\"Index: [4, 1]&#10;Color: (0, 0, 0)\" style=\"width: 30px; height: 30px;background-color: rgb(0, 0, 0);\"></td><td title=\"Index: [4, 2]&#10;Color: (225, 225, 225)\" style=\"width: 30px; height: 30px;background-color: rgb(225, 225, 225);\"></td><td title=\"Index: [4, 3]&#10;Color: (0, 0, 0)\" style=\"width: 30px; height: 30px;background-color: rgb(0, 0, 0);\"></td><td title=\"Index: [4, 4]&#10;Color: (0, 0, 0)\" style=\"width: 30px; height: 30px;background-color: rgb(0, 0, 0);\"></td></tr></tbody></table>"
      ],
      "text/plain": [
       "<IPython.core.display.HTML object>"
      ]
     },
     "metadata": {},
     "output_type": "display_data"
    }
   ],
   "source": [
    "affiche_ipythonblocks(plus)"
   ]
  },
  {
   "cell_type": "markdown",
   "metadata": {},
   "source": [
    "$$fois = \\begin{pmatrix}\n",
    "& 9 & 0 & 0 & 0 & 9 & \\\\\n",
    "& 0 & 9 & 0 & 9 & 0 & \\\\\n",
    "& 0 & 0 & 9 & 0 & 0 & \\\\\n",
    "& 0 & 9 & 0 & 9 & 0 & \\\\\n",
    "& 9 & 0 & 0 & 0 & 9 & \\\\\n",
    "\\end{pmatrix}$$"
   ]
  },
  {
   "cell_type": "code",
   "execution_count": 42,
   "metadata": {},
   "outputs": [],
   "source": [
    "fois = [[9 if i != -1 and j !=2 else 9 for j in range(5)] for i in range(5)]"
   ]
  },
  {
   "cell_type": "code",
   "execution_count": 43,
   "metadata": {},
   "outputs": [
    {
     "data": {
      "text/latex": [
       "$$\\begin{pmatrix}& 9 & 9 & 9 & 9 & 9 & \\\\& 9 & 9 & 9 & 9 & 9 & \\\\& 9 & 9 & 9 & 9 & 9 & \\\\& 9 & 9 & 9 & 9 & 9 & \\\\& 9 & 9 & 9 & 9 & 9 & \\\\\\end{pmatrix}$$"
      ],
      "text/plain": [
       "<IPython.core.display.Latex object>"
      ]
     },
     "execution_count": 43,
     "metadata": {},
     "output_type": "execute_result"
    }
   ],
   "source": [
    "affiche_latex(fois)"
   ]
  },
  {
   "cell_type": "code",
   "execution_count": 44,
   "metadata": {},
   "outputs": [
    {
     "data": {
      "text/html": [
       "<style type=\"text/css\">table.blockgrid {border: none;} .blockgrid tr {border: none;} .blockgrid td {padding: 0px;} #blocksdb69f258-5fca-46f0-8832-eac7c50d5009 td {border: 1px solid white;}</style><table id=\"blocksdb69f258-5fca-46f0-8832-eac7c50d5009\" class=\"blockgrid\"><tbody><tr><td title=\"Index: [0, 0]&#10;Color: (225, 225, 225)\" style=\"width: 30px; height: 30px;background-color: rgb(225, 225, 225);\"></td><td title=\"Index: [0, 1]&#10;Color: (225, 225, 225)\" style=\"width: 30px; height: 30px;background-color: rgb(225, 225, 225);\"></td><td title=\"Index: [0, 2]&#10;Color: (225, 225, 225)\" style=\"width: 30px; height: 30px;background-color: rgb(225, 225, 225);\"></td><td title=\"Index: [0, 3]&#10;Color: (225, 225, 225)\" style=\"width: 30px; height: 30px;background-color: rgb(225, 225, 225);\"></td><td title=\"Index: [0, 4]&#10;Color: (225, 225, 225)\" style=\"width: 30px; height: 30px;background-color: rgb(225, 225, 225);\"></td></tr><tr><td title=\"Index: [1, 0]&#10;Color: (225, 225, 225)\" style=\"width: 30px; height: 30px;background-color: rgb(225, 225, 225);\"></td><td title=\"Index: [1, 1]&#10;Color: (225, 225, 225)\" style=\"width: 30px; height: 30px;background-color: rgb(225, 225, 225);\"></td><td title=\"Index: [1, 2]&#10;Color: (225, 225, 225)\" style=\"width: 30px; height: 30px;background-color: rgb(225, 225, 225);\"></td><td title=\"Index: [1, 3]&#10;Color: (225, 225, 225)\" style=\"width: 30px; height: 30px;background-color: rgb(225, 225, 225);\"></td><td title=\"Index: [1, 4]&#10;Color: (225, 225, 225)\" style=\"width: 30px; height: 30px;background-color: rgb(225, 225, 225);\"></td></tr><tr><td title=\"Index: [2, 0]&#10;Color: (225, 225, 225)\" style=\"width: 30px; height: 30px;background-color: rgb(225, 225, 225);\"></td><td title=\"Index: [2, 1]&#10;Color: (225, 225, 225)\" style=\"width: 30px; height: 30px;background-color: rgb(225, 225, 225);\"></td><td title=\"Index: [2, 2]&#10;Color: (225, 225, 225)\" style=\"width: 30px; height: 30px;background-color: rgb(225, 225, 225);\"></td><td title=\"Index: [2, 3]&#10;Color: (225, 225, 225)\" style=\"width: 30px; height: 30px;background-color: rgb(225, 225, 225);\"></td><td title=\"Index: [2, 4]&#10;Color: (225, 225, 225)\" style=\"width: 30px; height: 30px;background-color: rgb(225, 225, 225);\"></td></tr><tr><td title=\"Index: [3, 0]&#10;Color: (225, 225, 225)\" style=\"width: 30px; height: 30px;background-color: rgb(225, 225, 225);\"></td><td title=\"Index: [3, 1]&#10;Color: (225, 225, 225)\" style=\"width: 30px; height: 30px;background-color: rgb(225, 225, 225);\"></td><td title=\"Index: [3, 2]&#10;Color: (225, 225, 225)\" style=\"width: 30px; height: 30px;background-color: rgb(225, 225, 225);\"></td><td title=\"Index: [3, 3]&#10;Color: (225, 225, 225)\" style=\"width: 30px; height: 30px;background-color: rgb(225, 225, 225);\"></td><td title=\"Index: [3, 4]&#10;Color: (225, 225, 225)\" style=\"width: 30px; height: 30px;background-color: rgb(225, 225, 225);\"></td></tr><tr><td title=\"Index: [4, 0]&#10;Color: (225, 225, 225)\" style=\"width: 30px; height: 30px;background-color: rgb(225, 225, 225);\"></td><td title=\"Index: [4, 1]&#10;Color: (225, 225, 225)\" style=\"width: 30px; height: 30px;background-color: rgb(225, 225, 225);\"></td><td title=\"Index: [4, 2]&#10;Color: (225, 225, 225)\" style=\"width: 30px; height: 30px;background-color: rgb(225, 225, 225);\"></td><td title=\"Index: [4, 3]&#10;Color: (225, 225, 225)\" style=\"width: 30px; height: 30px;background-color: rgb(225, 225, 225);\"></td><td title=\"Index: [4, 4]&#10;Color: (225, 225, 225)\" style=\"width: 30px; height: 30px;background-color: rgb(225, 225, 225);\"></td></tr></tbody></table>"
      ],
      "text/plain": [
       "<IPython.core.display.HTML object>"
      ]
     },
     "metadata": {},
     "output_type": "display_data"
    }
   ],
   "source": [
    "affiche_ipythonblocks(fois)"
   ]
  },
  {
   "cell_type": "markdown",
   "metadata": {},
   "source": [
    "$$ degrade\\_Est = \\begin{pmatrix}\n",
    "& 1 & 3 & 5 & 7 & 9 & \\\\\n",
    "& 1 & 3 & 5 & 7 & 9 & \\\\\n",
    "& 1 & 3 & 5 & 7 & 9 & \\\\\n",
    "& 1 & 3 & 5 & 7 & 9 & \\\\\n",
    "& 1 & 3 & 5 & 7 & 9 & \\\\\n",
    "\\end{pmatrix}$$"
   ]
  },
  {
   "cell_type": "code",
   "execution_count": null,
   "metadata": {},
   "outputs": [],
   "source": [
    "degrade_Est = []"
   ]
  },
  {
   "cell_type": "code",
   "execution_count": null,
   "metadata": {},
   "outputs": [],
   "source": [
    "affiche_latex(degrade_Est)"
   ]
  },
  {
   "cell_type": "code",
   "execution_count": null,
   "metadata": {},
   "outputs": [],
   "source": [
    "affiche_ipythonblocks(degrade_Est)"
   ]
  },
  {
   "cell_type": "markdown",
   "metadata": {},
   "source": [
    "$$ degrade\\_Sud\\_Est = \\begin{pmatrix}\n",
    "& 1 & 2 & 3 & 4 & 5 & \\\\\n",
    "& 2 & 3 & 4 & 5 & 6 & \\\\\n",
    "& 3 & 4 & 5 & 6 & 7 & \\\\\n",
    "& 4 & 5 & 6 & 7 & 8 & \\\\\n",
    "& 5 & 6 & 7 & 8 & 9 & \\\\\n",
    "\\end{pmatrix}$$"
   ]
  },
  {
   "cell_type": "code",
   "execution_count": null,
   "metadata": {},
   "outputs": [],
   "source": [
    "degrade_Sud_Est = []"
   ]
  },
  {
   "cell_type": "code",
   "execution_count": null,
   "metadata": {},
   "outputs": [],
   "source": [
    "affiche_latex(degrade_Sud_Est)"
   ]
  },
  {
   "cell_type": "code",
   "execution_count": null,
   "metadata": {},
   "outputs": [],
   "source": [
    "affiche_ipythonblocks(degrade_Sud_Est)"
   ]
  },
  {
   "cell_type": "markdown",
   "metadata": {},
   "source": [
    "<h3 class='fa fa-rocket' style=\"color: tomato\"> Prolongement :</h3>\n",
    "\n",
    "Imaginer d'autres matrices (5x5) et les afficher dans ce notebook..."
   ]
  },
  {
   "cell_type": "code",
   "execution_count": null,
   "metadata": {},
   "outputs": [],
   "source": [
    "autre = []"
   ]
  },
  {
   "cell_type": "markdown",
   "metadata": {},
   "source": [
    "## Quelques opérations sur les matrices\n",
    "\n",
    "### Addition ou Soustraction de matrices :\n",
    "L'addition (ou la soustraction) de deux matrices de même dimension `mat_A` et `mat_B` est égale à la matrice dont chaque coefficient est obtenu en additionnant (ou en soustrayant) les coefficients de la matrice `mat_A` au coefficient correspondant de la matrice `mat_B`.\n",
    "\n",
    "Exemple :\n",
    "\n",
    "$$ \\begin{pmatrix}\n",
    "1 & 2 & 0 \\\\\n",
    "4 & 3 & -1 \\\\\n",
    "\\end{pmatrix} + \\begin{pmatrix}\n",
    "5 & 2 & 3 \\\\\n",
    "1 & 3 & 4 \\\\\n",
    "\\end{pmatrix} =\\begin{pmatrix}\n",
    "6 & 4 & 3 \\\\\n",
    "5 & 6 & 3 \\\\\n",
    "\\end{pmatrix}$$\n",
    "\n",
    "<h3 class='fa fa-cogs' style=\"color: darkorange\"> A faire vous même :</h3>\n",
    "\n",
    "Vérifier cet exemple et documenter la fonction `addition(mat_A, mat_B)` du script suivant :"
   ]
  },
  {
   "cell_type": "code",
   "execution_count": null,
   "metadata": {},
   "outputs": [],
   "source": [
    "def addition(mat_A, mat_B) :\n",
    "    '''\n",
    "    ################################################\n",
    "    #                                              #\n",
    "    #   Documentation de la fonction ...........   #\n",
    "    #                                              #\n",
    "    ################################################\n",
    "    \n",
    "    '''    \n",
    "    return [[(mat_A[i][j] + mat_B[i][j]) for j in range(len(mat_A[0]))] for i in range(len(mat_A))]\n",
    "\n",
    "affiche_latex(addition([[1, 2, 0],[4, 3, -1]],[[5, 2, 3],[1, 3, 4]]))"
   ]
  },
  {
   "cell_type": "markdown",
   "metadata": {},
   "source": [
    "<h3 class='fa fa-code' style=\"color: darkorange\"> A programmer vous même :</h3>\n",
    "\n",
    "- Définir une fonction de soustraction de matrice ;\n",
    "- Afficher les matrices résultantes des opérations :\n",
    "    - `plein_feux - joyeux`\n",
    "    - `plein_feux - fois`\n",
    "    - `plein_feux - degrade_Est`\n",
    "    - `plein_feux - degrade_Sud_Est`\n",
    "    \n",
    "- Comparer les images résultantes avec les images retranchées..."
   ]
  },
  {
   "cell_type": "code",
   "execution_count": null,
   "metadata": {},
   "outputs": [],
   "source": [
    "def soustraction(mat_A, mat_B) :\n",
    "    '''\n",
    "    ################################################\n",
    "    #                                              #\n",
    "    #   Documentation de la fonction ...........   #\n",
    "    #                                              #\n",
    "    ################################################\n",
    "    \n",
    "    '''\n",
    "    return []"
   ]
  },
  {
   "cell_type": "code",
   "execution_count": null,
   "metadata": {},
   "outputs": [],
   "source": [
    "affiche_latex(soustraction(plein_feux, joyeux))"
   ]
  },
  {
   "cell_type": "code",
   "execution_count": null,
   "metadata": {},
   "outputs": [],
   "source": [
    "affiche_ipythonblocks(soustraction(plein_feux, joyeux))"
   ]
  },
  {
   "cell_type": "markdown",
   "metadata": {},
   "source": [
    "### Transposition d'une matrice :\n",
    "\n",
    "La transposée $^tM$ d'une matrice $M(m\\times n)$ est la matrice $(n\\times m)$ obtenue en échangeant les lignes et les colonnes de la matrice $M$.\n",
    "\n",
    "Exemple :\n",
    "\n",
    "Pour : \n",
    "$M=\\begin{pmatrix}\n",
    "1 & 2 & 0 \\\\\n",
    "4 & 3 & -1 \\\\\n",
    "\\end{pmatrix}$\n",
    "\n",
    "Alors : \n",
    "$^tM=\\begin{pmatrix}\n",
    "1 & 4  \\\\\n",
    "2 & 3  \\\\\n",
    "0 &-1 \n",
    "\\end{pmatrix}$\n",
    "\n",
    "<h3 class='fa fa-code' style=\"color: darkorange\"> A coder vous même :</h3>\n",
    "\n",
    "Définir une fonction `transpose(matrice)` qui :\n",
    "   - prend en paramètre une matrice (mxn) dont les éléments sont des nombres entiers ;\n",
    "   - renvoie la matrice transposée (nxm). \n",
    "\n",
    "Appliquer votre fonction pour calculer les tranposées des matrices (5x5) précédentes..."
   ]
  },
  {
   "cell_type": "code",
   "execution_count": null,
   "metadata": {},
   "outputs": [],
   "source": [
    "def transpose(matrice) :\n",
    "    '''\n",
    "    ################################################\n",
    "    #                                              #\n",
    "    #   Documentation de la fonction ...........   #\n",
    "    #                                              #\n",
    "    ################################################\n",
    "    \n",
    "    '''\n",
    "    return []"
   ]
  },
  {
   "cell_type": "markdown",
   "metadata": {},
   "source": [
    "## Un peu d'animation :\n",
    "\n",
    "### Sur un BBC micro:bit :\n",
    "\n",
    "<h3 class='fa fa-cogs' style=\"color: darkorange\"> A faire vous même :</h3>\n",
    "\n",
    "- Compléter le programme suivant en y intégrant vos développements précédents puis le tester sur simulateur et sur BBC micro:bit ;\n",
    "- Expliquer le calcul `k % len(ecrans)`"
   ]
  },
  {
   "cell_type": "code",
   "execution_count": null,
   "metadata": {},
   "outputs": [],
   "source": [
    "from microbit import *\n",
    "\n",
    "plein_feux = []\n",
    "plus = []\n",
    "fois = []\n",
    "\n",
    "\n",
    "def affiche_microbit(matrice) :\n",
    "    for i \n",
    "        for j\n",
    "    return\n",
    "            \n",
    "def soustraction(mat_A, mat_B) :\n",
    "    return []\n",
    "\n",
    "\n",
    "ecrans = [plein_feux,\n",
    "          soustraction(plein_feux, plus),\n",
    "          plus,\n",
    "          soustraction(plein_feux, plein_feux),\n",
    "          fois,\n",
    "          soustraction(plein_feux, fois)]            \n",
    "            \n",
    "k = 0\n",
    " \n",
    "while k < 100 :\n",
    "    affiche_microbit(ecrans[k % len(ecrans)])\n",
    "    sleep(500)\n",
    "    k+=1"
   ]
  },
  {
   "cell_type": "markdown",
   "metadata": {},
   "source": [
    "### Avec IpythonBlocks dans ce notebook :\n",
    "\n",
    "La fonction `flash()` d'une instance de BlockGrid permet un affichage animé selon le paramètre de temps `display_time` :"
   ]
  },
  {
   "cell_type": "code",
   "execution_count": null,
   "metadata": {},
   "outputs": [],
   "source": [
    "from ipythonblocks import BlockGrid\n",
    "\n",
    "ecrans = [plein_feux,\n",
    "          soustraction(plein_feux, plus),\n",
    "          plus,\n",
    "          soustraction(plein_feux, plein_feux),\n",
    "          fois,\n",
    "          soustraction(plein_feux, fois)]            \n",
    "            \n",
    "k = 0\n",
    " \n",
    "while k < 100 :\n",
    "    affiche_ipythonblocks(ecrans[k % len(ecrans)]).flash(display_time=0.5)\n",
    "    k+=1"
   ]
  },
  {
   "cell_type": "markdown",
   "metadata": {},
   "source": [
    "## Affichage avec ipycanvas dans ce notebook jupyter :\n",
    "\n",
    "Reproduire aves le module ipycanvas un affichage similaire à celui obtenu avec IPythonBlocks :"
   ]
  },
  {
   "cell_type": "code",
   "execution_count": null,
   "metadata": {},
   "outputs": [],
   "source": [
    "from ipycanvas import Canvas\n",
    "\n",
    "def affiche_ipycanvas(matrice) :\n",
    "    maGrille = Canvas(width=..., height=...)\n",
    "    for i  \n",
    "        for j \n",
    "            \n",
    "            \n",
    "            \n",
    "    return maGrille"
   ]
  },
  {
   "cell_type": "code",
   "execution_count": null,
   "metadata": {},
   "outputs": [],
   "source": [
    "affiche_ipycanvas(joyeux)"
   ]
  },
  {
   "cell_type": "markdown",
   "metadata": {},
   "source": [
    "<h3 class='fa fa-rocket' style=\"color: tomato\"> Prolongement :</h3>\n",
    "\n",
    "Imaginer d'autres animations...\n",
    "\n",
    "Développer de nouvelles matrices...\n",
    "\n",
    "Développer de nouvelles opérations sur des matrices...\n",
    "\n",
    "Développer d'autres fonctions d'affichage :\n",
    "    - Dans un notebook avec des fonctions Ipython.display comme HTML, SVG, \n",
    "    - Pour d'autres matrices à LEDs :\n",
    "        - Matrice 8x8 pour BBC microbit\n",
    "        - SenseHat sur RaspberryPi\n",
    "        - Anneau pour BBC microbit\n",
    "        - Anneau de CPX\n",
    "        - Anneau d'Halocode     \n"
   ]
  },
  {
   "cell_type": "markdown",
   "metadata": {},
   "source": [
    "****\n",
    "## Références aux programmes :\n",
    "\n",
    "<style type=\"text/css\">\n",
    ".tg  {border-collapse:collapse;border-spacing:0;}\n",
    ".tg td{font-family:Arial, sans-serif;font-size:14px;padding:10px 5px;border-style:solid;border-width:1px;overflow:hidden;word-break:normal;border-color:black;}\n",
    ".tg th{font-family:Arial, sans-serif;font-size:14px;font-weight:normal;padding:10px 5px;border-style:solid;border-width:1px;overflow:hidden;word-break:normal;border-color:black;}\n",
    ".tg .tg-cv16{font-weight:bold;background-color:#dae8fc;border-color:inherit;text-align:center}\n",
    ".tg .tg-xldj{border-color:inherit;text-align:left}\n",
    "</style>\n",
    "<table class=\"tg\">\n",
    "  <tr>\n",
    "    <th class=\"tg-cv16\">Contenus</th>\n",
    "    <th class=\"tg-cv16\">Capacités attendues</th>\n",
    "    <th class=\"tg-cv16\">Commentaires</th>\n",
    "  </tr>\n",
    "  \n",
    "  <tr>\n",
    "    <td class=\"tg-xldj\">Tableau indexé,<br> tableau donné en compréhension</td>\n",
    "    <td class=\"tg-xldj\">Lire et modifier les éléments d’un tableau grâce à leurs index.<br> Construire un tableau par compréhension.<br> Utiliser des tableaux de tableaux pour représenter des matrices : notation a [i] [j].<br>Itérer sur les éléments d’un tableau.\n",
    "</td>\n",
    "    <td class=\"tg-xldj\">Seuls les tableaux dont les éléments sont du même type sont présentés.<br> Aucune connaissance des\n",
    "tranches (slices) n’est exigible. <br> L’aspect dynamique des tableaux de Python n’est pas évoqué.<br> Python identifie listes et tableaux. <br>Il n’est pas fait référence aux tableaux de la bibliothèque NumPy.\n",
    "</td>\n",
    "  </tr>\n",
    " \n",
    "</table>\n",
    "<br>\n",
    "<br>\n",
    "<table class=\"tg\">\n",
    "  <tr>\n",
    "    <th class=\"tg-cv16\">Contenus</th>\n",
    "    <th class=\"tg-cv16\">Capacités attendues</th>\n",
    "    <th class=\"tg-cv16\">Commentaires</th>\n",
    "  </tr>\n",
    "  <tr>\n",
    "    <td class=\"tg-xldj\">Spécification.</td>\n",
    "    <td class=\"tg-xldj\">Prototyper une fonction.<br>Décrire les préconditions sur les arguments.<br>Décrire des postconditions sur les résultats.</td>\n",
    "    <td class=\"tg-xldj\">Des assertions peuvent être utilisées pour garantir des préconditions ou des postconditions.</td>\n",
    "  </tr>\n",
    "  <tr>\n",
    "    <td class=\"tg-xldj\">Mise au point de programmes</td>\n",
    "    <td class=\"tg-xldj\">Utiliser des jeux de tests.</td>\n",
    "    <td class=\"tg-xldj\">L’importance de la qualité et du nombre des tests est mise en évidence.<br>Le succès d’un jeu de tests ne garantit pas la correction d’un programme.</td>\n",
    "  </tr>\n",
    "  <tr>\n",
    "    <td class=\"tg-xldj\">Utilisation de bibliothèques</td>\n",
    "    <td class=\"tg-xldj\">Utiliser la documentation d’une bibliothèque.</td>\n",
    "    <td class=\"tg-xldj\">Aucune connaissance exhaustive d’une bibliothèque particulière n’est exigible.</td>\n",
    "  </tr>  \n",
    "</table>"
   ]
  },
  {
   "cell_type": "markdown",
   "metadata": {},
   "source": [
    "<a rel=\"license\" href=\"http://creativecommons.org/licenses/by-sa/4.0/\"><img alt=\"Licence Creative Commons\" style=\"border-width:0\" src=\"https://i.creativecommons.org/l/by-sa/4.0/88x31.png\" /></a><br />Ce document est mis à disposition selon les termes de la <a rel=\"license\" href=\"http://creativecommons.org/licenses/by-sa/4.0/\">Licence Creative Commons Attribution -  Partage dans les Mêmes Conditions 4.0 International</a>.\n",
    "\n",
    "Pour toute question, suggestion ou commentaire : <a href=\"mailto:eric.madec@ecmorlaix.fr\">eric.madec@ecmorlaix.fr</a>"
   ]
  }
 ],
 "metadata": {
  "kernelspec": {
   "display_name": "Python 3",
   "language": "python",
   "name": "python3"
  },
  "language_info": {
   "codemirror_mode": {
    "name": "ipython",
    "version": 3
   },
   "file_extension": ".py",
   "mimetype": "text/x-python",
   "name": "python",
   "nbconvert_exporter": "python",
   "pygments_lexer": "ipython3",
   "version": "3.8.16"
  },
  "varInspector": {
   "cols": {
    "lenName": 16,
    "lenType": 16,
    "lenVar": 40
   },
   "kernels_config": {
    "python": {
     "delete_cmd_postfix": "",
     "delete_cmd_prefix": "del ",
     "library": "var_list.py",
     "varRefreshCmd": "print(var_dic_list())"
    },
    "r": {
     "delete_cmd_postfix": ") ",
     "delete_cmd_prefix": "rm(",
     "library": "var_list.r",
     "varRefreshCmd": "cat(var_dic_list()) "
    }
   },
   "types_to_exclude": [
    "module",
    "function",
    "builtin_function_or_method",
    "instance",
    "_Feature"
   ],
   "window_display": false
  }
 },
 "nbformat": 4,
 "nbformat_minor": 2
}
